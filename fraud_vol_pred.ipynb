{
  "nbformat": 4,
  "nbformat_minor": 0,
  "metadata": {
    "colab": {
      "name": "fraud_vol_pred.ipynb",
      "provenance": [],
      "collapsed_sections": []
    },
    "kernelspec": {
      "name": "python3",
      "display_name": "Python 3"
    },
    "widgets": {
      "application/vnd.jupyter.widget-state+json": {
        "23d9d22cd24e44e4b265de9c937c1745": {
          "model_module": "@jupyter-widgets/controls",
          "model_name": "IntProgressModel",
          "state": {
            "_view_name": "ProgressView",
            "style": "IPY_MODEL_50733ae70a5c4d9ba4b4ce1d6c3cfc84",
            "_dom_classes": [],
            "description": "Processing: ",
            "_model_name": "IntProgressModel",
            "bar_style": "",
            "max": 13,
            "_view_module": "@jupyter-widgets/controls",
            "_model_module_version": "1.5.0",
            "value": 3,
            "_view_count": null,
            "_view_module_version": "1.5.0",
            "orientation": "horizontal",
            "min": 0,
            "description_tooltip": null,
            "_model_module": "@jupyter-widgets/controls",
            "layout": "IPY_MODEL_407c217aaef04fe59db10168aaf6b270"
          }
        },
        "50733ae70a5c4d9ba4b4ce1d6c3cfc84": {
          "model_module": "@jupyter-widgets/controls",
          "model_name": "ProgressStyleModel",
          "state": {
            "_view_name": "StyleView",
            "_model_name": "ProgressStyleModel",
            "description_width": "",
            "_view_module": "@jupyter-widgets/base",
            "_model_module_version": "1.5.0",
            "_view_count": null,
            "_view_module_version": "1.2.0",
            "bar_color": null,
            "_model_module": "@jupyter-widgets/controls"
          }
        },
        "407c217aaef04fe59db10168aaf6b270": {
          "model_module": "@jupyter-widgets/base",
          "model_name": "LayoutModel",
          "state": {
            "_view_name": "LayoutView",
            "grid_template_rows": null,
            "right": null,
            "justify_content": null,
            "_view_module": "@jupyter-widgets/base",
            "overflow": null,
            "_model_module_version": "1.2.0",
            "_view_count": null,
            "flex_flow": null,
            "width": null,
            "min_width": null,
            "border": null,
            "align_items": null,
            "bottom": null,
            "_model_module": "@jupyter-widgets/base",
            "top": null,
            "grid_column": null,
            "overflow_y": null,
            "overflow_x": null,
            "grid_auto_flow": null,
            "grid_area": null,
            "grid_template_columns": null,
            "flex": null,
            "_model_name": "LayoutModel",
            "justify_items": null,
            "grid_row": null,
            "max_height": null,
            "align_content": null,
            "visibility": null,
            "align_self": null,
            "height": null,
            "min_height": null,
            "padding": null,
            "grid_auto_rows": null,
            "grid_gap": null,
            "max_width": null,
            "order": null,
            "_view_module_version": "1.2.0",
            "grid_template_areas": null,
            "object_position": null,
            "object_fit": null,
            "grid_auto_columns": null,
            "margin": null,
            "display": null,
            "left": null
          }
        },
        "62dbbec58d02482e93240a62ab6d5e28": {
          "model_module": "@jupyter-widgets/controls",
          "model_name": "TextModel",
          "state": {
            "_view_name": "TextView",
            "style": "IPY_MODEL_d2798b5ea008441699bd9aba6072337d",
            "_dom_classes": [],
            "description": "",
            "_model_name": "TextModel",
            "placeholder": "​",
            "_view_module": "@jupyter-widgets/controls",
            "_model_module_version": "1.5.0",
            "value": "Following data types have been inferred automatically, if they are correct press enter to continue or type 'quit' otherwise.",
            "_view_count": null,
            "disabled": false,
            "_view_module_version": "1.5.0",
            "continuous_update": true,
            "description_tooltip": null,
            "_model_module": "@jupyter-widgets/controls",
            "layout": "IPY_MODEL_c69f81315aa04875947582d368c76eed"
          }
        },
        "d2798b5ea008441699bd9aba6072337d": {
          "model_module": "@jupyter-widgets/controls",
          "model_name": "DescriptionStyleModel",
          "state": {
            "_view_name": "StyleView",
            "_model_name": "DescriptionStyleModel",
            "description_width": "",
            "_view_module": "@jupyter-widgets/base",
            "_model_module_version": "1.5.0",
            "_view_count": null,
            "_view_module_version": "1.2.0",
            "_model_module": "@jupyter-widgets/controls"
          }
        },
        "c69f81315aa04875947582d368c76eed": {
          "model_module": "@jupyter-widgets/base",
          "model_name": "LayoutModel",
          "state": {
            "_view_name": "LayoutView",
            "grid_template_rows": null,
            "right": null,
            "justify_content": null,
            "_view_module": "@jupyter-widgets/base",
            "overflow": null,
            "_model_module_version": "1.2.0",
            "_view_count": null,
            "flex_flow": null,
            "width": "100%",
            "min_width": null,
            "border": null,
            "align_items": null,
            "bottom": null,
            "_model_module": "@jupyter-widgets/base",
            "top": null,
            "grid_column": null,
            "overflow_y": null,
            "overflow_x": null,
            "grid_auto_flow": null,
            "grid_area": null,
            "grid_template_columns": null,
            "flex": null,
            "_model_name": "LayoutModel",
            "justify_items": null,
            "grid_row": null,
            "max_height": null,
            "align_content": null,
            "visibility": null,
            "align_self": null,
            "height": null,
            "min_height": null,
            "padding": null,
            "grid_auto_rows": null,
            "grid_gap": null,
            "max_width": null,
            "order": null,
            "_view_module_version": "1.2.0",
            "grid_template_areas": null,
            "object_position": null,
            "object_fit": null,
            "grid_auto_columns": null,
            "margin": null,
            "display": null,
            "left": null
          }
        },
        "a25dc2cdc90f4bb39631036c8845364a": {
          "model_module": "@jupyter-widgets/controls",
          "model_name": "IntProgressModel",
          "state": {
            "_view_name": "ProgressView",
            "style": "IPY_MODEL_d5d8655dcbe9446ebe0d26a03ff1c2cc",
            "_dom_classes": [],
            "description": "Processing: ",
            "_model_name": "IntProgressModel",
            "bar_style": "",
            "max": 14,
            "_view_module": "@jupyter-widgets/controls",
            "_model_module_version": "1.5.0",
            "value": 14,
            "_view_count": null,
            "_view_module_version": "1.5.0",
            "orientation": "horizontal",
            "min": 0,
            "description_tooltip": null,
            "_model_module": "@jupyter-widgets/controls",
            "layout": "IPY_MODEL_53f27e26fd13429d8e92fe1f5528311e"
          }
        },
        "ef2d6d7925b94288bb9971f0b97b6fcb": {
          "model_module": "@jupyter-widgets/controls",
          "model_name": "IntProgressModel",
          "state": {
            "_view_name": "ProgressView",
            "style": "IPY_MODEL_bfe0e519972b434c955cf4e7a460bdb7",
            "_dom_classes": [],
            "description": "Processing: ",
            "_model_name": "IntProgressModel",
            "bar_style": "",
            "max": 5,
            "_view_module": "@jupyter-widgets/controls",
            "_model_module_version": "1.5.0",
            "value": 4,
            "_view_count": null,
            "_view_module_version": "1.5.0",
            "orientation": "horizontal",
            "min": 0,
            "description_tooltip": null,
            "_model_module": "@jupyter-widgets/controls",
            "layout": "IPY_MODEL_027dc4c17182442e8e7b9368ce79ebde"
          }
        }
      }
    }
  },
  "cells": [
    {
      "cell_type": "markdown",
      "metadata": {
        "id": "FTIoLKmbdIH3",
        "colab_type": "text"
      },
      "source": [
        "## Import Packages"
      ]
    },
    {
      "cell_type": "code",
      "metadata": {
        "id": "S5GCBq-vBVj9",
        "colab_type": "code",
        "colab": {
          "base_uri": "https://localhost:8080/",
          "height": 52
        },
        "outputId": "b13c35ba-cfa4-49ff-ac72-82ca512ecc2c"
      },
      "source": [
        "import pandas as pd\n",
        "import seaborn as sns\n",
        "from sklearn.preprocessing import LabelEncoder, OneHotEncoder\n",
        "from sklearn.linear_model import LinearRegression\n",
        "import matplotlib.pyplot as plt\n",
        "from google.colab import files\n"
      ],
      "execution_count": 1,
      "outputs": [
        {
          "output_type": "stream",
          "text": [
            "/usr/local/lib/python3.6/dist-packages/statsmodels/tools/_testing.py:19: FutureWarning: pandas.util.testing is deprecated. Use the functions in the public API at pandas.testing instead.\n",
            "  import pandas.util.testing as tm\n"
          ],
          "name": "stderr"
        }
      ]
    },
    {
      "cell_type": "markdown",
      "metadata": {
        "id": "eyuD3ERXdMi4",
        "colab_type": "text"
      },
      "source": [
        "## Read Data"
      ]
    },
    {
      "cell_type": "code",
      "metadata": {
        "id": "YZL8TXHHGtZ-",
        "colab_type": "code",
        "colab": {
          "base_uri": "https://localhost:8080/",
          "height": 208
        },
        "outputId": "f6b5dae7-514f-4f45-9130-af3af6163219"
      },
      "source": [
        "# read data\n",
        "data = pd.read_csv('/content/fraud data - Sheet1.csv')\n",
        "data.info()"
      ],
      "execution_count": 2,
      "outputs": [
        {
          "output_type": "stream",
          "text": [
            "<class 'pandas.core.frame.DataFrame'>\n",
            "RangeIndex: 18 entries, 0 to 17\n",
            "Data columns (total 4 columns):\n",
            " #   Column   Non-Null Count  Dtype \n",
            "---  ------   --------------  ----- \n",
            " 0   Year     18 non-null     int64 \n",
            " 1   Channel  18 non-null     object\n",
            " 2   Value    18 non-null     object\n",
            " 3   Volume   18 non-null     object\n",
            "dtypes: int64(1), object(3)\n",
            "memory usage: 704.0+ bytes\n"
          ],
          "name": "stdout"
        }
      ]
    },
    {
      "cell_type": "markdown",
      "metadata": {
        "id": "6ffT9E5bdSt9",
        "colab_type": "text"
      },
      "source": [
        "## Transform Data"
      ]
    },
    {
      "cell_type": "code",
      "metadata": {
        "id": "KC9gorIMJZ_u",
        "colab_type": "code",
        "colab": {}
      },
      "source": [
        "# remove comma from the numbers\n",
        "data['Value'] = data['Value'].str.replace(',', '').astype(float)\n",
        "data['Volume'] = data['Volume'].str.replace(',', '').astype(float)\n",
        "#data = data.drop(['Year'], axis=1)"
      ],
      "execution_count": 3,
      "outputs": []
    },
    {
      "cell_type": "code",
      "metadata": {
        "id": "arHEyF8BMCID",
        "colab_type": "code",
        "colab": {
          "base_uri": "https://localhost:8080/",
          "height": 202
        },
        "outputId": "a9c64299-bb70-4ce4-8ddc-d9ddabcacf92"
      },
      "source": [
        "# one hot encode channel column\n",
        "df =pd.get_dummies(data['Channel'], prefix='channel')\n",
        "data = pd.concat([data, df], axis=1)\n",
        "data = data.drop(columns=['Channel'], axis=1)\n",
        "#data['Channel_enc'] = OneHotEncoder().fit_transform(data['Channel'])\n",
        "data.head()"
      ],
      "execution_count": 4,
      "outputs": [
        {
          "output_type": "execute_result",
          "data": {
            "text/html": [
              "<div>\n",
              "<style scoped>\n",
              "    .dataframe tbody tr th:only-of-type {\n",
              "        vertical-align: middle;\n",
              "    }\n",
              "\n",
              "    .dataframe tbody tr th {\n",
              "        vertical-align: top;\n",
              "    }\n",
              "\n",
              "    .dataframe thead th {\n",
              "        text-align: right;\n",
              "    }\n",
              "</style>\n",
              "<table border=\"1\" class=\"dataframe\">\n",
              "  <thead>\n",
              "    <tr style=\"text-align: right;\">\n",
              "      <th></th>\n",
              "      <th>Year</th>\n",
              "      <th>Value</th>\n",
              "      <th>Volume</th>\n",
              "      <th>channel_ATM</th>\n",
              "      <th>channel_Internet Banking</th>\n",
              "      <th>channel_Mobile</th>\n",
              "      <th>channel_POS</th>\n",
              "      <th>channel_Web</th>\n",
              "      <th>channel_eCommerce</th>\n",
              "    </tr>\n",
              "  </thead>\n",
              "  <tbody>\n",
              "    <tr>\n",
              "      <th>0</th>\n",
              "      <td>2014</td>\n",
              "      <td>2.688669e+09</td>\n",
              "      <td>491.0</td>\n",
              "      <td>1</td>\n",
              "      <td>0</td>\n",
              "      <td>0</td>\n",
              "      <td>0</td>\n",
              "      <td>0</td>\n",
              "      <td>0</td>\n",
              "    </tr>\n",
              "    <tr>\n",
              "      <th>1</th>\n",
              "      <td>2014</td>\n",
              "      <td>2.120882e+08</td>\n",
              "      <td>287.0</td>\n",
              "      <td>0</td>\n",
              "      <td>1</td>\n",
              "      <td>0</td>\n",
              "      <td>0</td>\n",
              "      <td>0</td>\n",
              "      <td>0</td>\n",
              "    </tr>\n",
              "    <tr>\n",
              "      <th>2</th>\n",
              "      <td>2014</td>\n",
              "      <td>1.332896e+07</td>\n",
              "      <td>21.0</td>\n",
              "      <td>0</td>\n",
              "      <td>0</td>\n",
              "      <td>1</td>\n",
              "      <td>0</td>\n",
              "      <td>0</td>\n",
              "      <td>0</td>\n",
              "    </tr>\n",
              "    <tr>\n",
              "      <th>3</th>\n",
              "      <td>2014</td>\n",
              "      <td>1.576108e+08</td>\n",
              "      <td>166.0</td>\n",
              "      <td>0</td>\n",
              "      <td>0</td>\n",
              "      <td>0</td>\n",
              "      <td>1</td>\n",
              "      <td>0</td>\n",
              "      <td>0</td>\n",
              "    </tr>\n",
              "    <tr>\n",
              "      <th>4</th>\n",
              "      <td>2014</td>\n",
              "      <td>1.031239e+09</td>\n",
              "      <td>218.0</td>\n",
              "      <td>0</td>\n",
              "      <td>0</td>\n",
              "      <td>0</td>\n",
              "      <td>0</td>\n",
              "      <td>1</td>\n",
              "      <td>0</td>\n",
              "    </tr>\n",
              "  </tbody>\n",
              "</table>\n",
              "</div>"
            ],
            "text/plain": [
              "   Year         Value  ...  channel_Web    channel_eCommerce  \n",
              "0  2014  2.688669e+09  ...              0                    0\n",
              "1  2014  2.120882e+08  ...              0                    0\n",
              "2  2014  1.332896e+07  ...              0                    0\n",
              "3  2014  1.576108e+08  ...              0                    0\n",
              "4  2014  1.031239e+09  ...              1                    0\n",
              "\n",
              "[5 rows x 9 columns]"
            ]
          },
          "metadata": {
            "tags": []
          },
          "execution_count": 4
        }
      ]
    },
    {
      "cell_type": "code",
      "metadata": {
        "id": "yuQLYdKjBTGC",
        "colab_type": "code",
        "colab": {}
      },
      "source": [
        "# scale the data\n",
        "from sklearn.preprocessing import MinMaxScaler\n",
        "scaler = MinMaxScaler()\n",
        "normalised_df = pd.DataFrame(scaler.fit_transform(data), columns=data.columns)\n",
        "features_df = normalised_df.drop(columns=['Volume'])\n",
        "target = normalised_df['Volume']\n",
        "\n",
        "\n",
        "#Now, we split our dataset into the training and testing dataset. Recall that we had earlier segmented the features and target variables.\n",
        "from sklearn.model_selection import train_test_split\n",
        "x_train, x_test, y_train, y_test = train_test_split(features_df, target, test_size=0.3, random_state=42)"
      ],
      "execution_count": 5,
      "outputs": []
    },
    {
      "cell_type": "markdown",
      "metadata": {
        "id": "Hq37xLZadtQm",
        "colab_type": "text"
      },
      "source": [
        "## Modeling"
      ]
    },
    {
      "cell_type": "code",
      "metadata": {
        "id": "qqkbfBqRBUsM",
        "colab_type": "code",
        "colab": {}
      },
      "source": [
        "linear_model = LinearRegression()\n",
        "#fit the model to the training dataset\n",
        "linear_model.fit(x_train, y_train)\n",
        "#obtain predictions\n",
        "predicted_values = linear_model.predict(x_test)"
      ],
      "execution_count": 6,
      "outputs": []
    },
    {
      "cell_type": "markdown",
      "metadata": {
        "id": "CWB03TtJd0BN",
        "colab_type": "text"
      },
      "source": [
        "## Evaluation"
      ]
    },
    {
      "cell_type": "code",
      "metadata": {
        "id": "LawGemR7dzUw",
        "colab_type": "code",
        "colab": {
          "base_uri": "https://localhost:8080/",
          "height": 34
        },
        "outputId": "a2d1c0f2-eb08-49b6-88a6-418d80ca41f5"
      },
      "source": [
        "#MAE\n",
        "from sklearn.metrics import mean_absolute_error\n",
        "mae = mean_absolute_error(y_test, predicted_values)\n",
        "round(mae, 3) "
      ],
      "execution_count": 7,
      "outputs": [
        {
          "output_type": "execute_result",
          "data": {
            "text/plain": [
              "0.231"
            ]
          },
          "metadata": {
            "tags": []
          },
          "execution_count": 7
        }
      ]
    },
    {
      "cell_type": "code",
      "metadata": {
        "id": "l7SXfLV0Sszo",
        "colab_type": "code",
        "colab": {
          "base_uri": "https://localhost:8080/",
          "height": 34
        },
        "outputId": "4ee6c32c-d867-4303-ff5d-3b4854664e03"
      },
      "source": [
        "# r2 score\n",
        "from sklearn.metrics import r2_score\n",
        "test_r2_score = r2_score(y_test, predicted_values)\n",
        "round(test_r2_score, 3)"
      ],
      "execution_count": 8,
      "outputs": [
        {
          "output_type": "execute_result",
          "data": {
            "text/plain": [
              "-160.603"
            ]
          },
          "metadata": {
            "tags": []
          },
          "execution_count": 8
        }
      ]
    },
    {
      "cell_type": "code",
      "metadata": {
        "id": "Wa2quP_kS73-",
        "colab_type": "code",
        "colab": {
          "base_uri": "https://localhost:8080/",
          "height": 34
        },
        "outputId": "50db3632-2837-4eb4-e974-5555335879e6"
      },
      "source": [
        "# rss\n",
        "import numpy as np\n",
        "\n",
        "rss = np.sum(np.square(y_test - predicted_values))\n",
        "round(rss, 3)"
      ],
      "execution_count": 9,
      "outputs": [
        {
          "output_type": "execute_result",
          "data": {
            "text/plain": [
              "0.497"
            ]
          },
          "metadata": {
            "tags": []
          },
          "execution_count": 9
        }
      ]
    },
    {
      "cell_type": "code",
      "metadata": {
        "id": "zMB1l9iFS_Bt",
        "colab_type": "code",
        "colab": {
          "base_uri": "https://localhost:8080/",
          "height": 34
        },
        "outputId": "5ee9b970-c423-427b-e201-5f577ed076e6"
      },
      "source": [
        "# rmse\n",
        "from sklearn.metrics import  mean_squared_error\n",
        "rmse = np.sqrt(mean_squared_error(y_test, predicted_values))\n",
        "round(rmse, 3)"
      ],
      "execution_count": 10,
      "outputs": [
        {
          "output_type": "execute_result",
          "data": {
            "text/plain": [
              "0.288"
            ]
          },
          "metadata": {
            "tags": []
          },
          "execution_count": 10
        }
      ]
    },
    {
      "cell_type": "markdown",
      "metadata": {
        "id": "surii0F6kWDz",
        "colab_type": "text"
      },
      "source": [
        "## Regression Model with Pycaret"
      ]
    },
    {
      "cell_type": "code",
      "metadata": {
        "id": "ZYU4gWGuX5jk",
        "colab_type": "code",
        "colab": {
          "base_uri": "https://localhost:8080/",
          "height": 1000
        },
        "outputId": "58294246-506c-41eb-9019-04cf9d5c512d"
      },
      "source": [
        "!pip install pycaret"
      ],
      "execution_count": 20,
      "outputs": [
        {
          "output_type": "stream",
          "text": [
            "Collecting pycaret\n",
            "\u001b[?25l  Downloading https://files.pythonhosted.org/packages/91/ae/000d825af8f7d9ff86808600f220e7ad57a873987fd6119c87dc4c5b1d91/pycaret-2.0-py3-none-any.whl (255kB)\n",
            "\r\u001b[K     |█▎                              | 10kB 17.0MB/s eta 0:00:01\r\u001b[K     |██▋                             | 20kB 1.5MB/s eta 0:00:01\r\u001b[K     |███▉                            | 30kB 1.8MB/s eta 0:00:01\r\u001b[K     |█████▏                          | 40kB 2.0MB/s eta 0:00:01\r\u001b[K     |██████▍                         | 51kB 1.9MB/s eta 0:00:01\r\u001b[K     |███████▊                        | 61kB 2.1MB/s eta 0:00:01\r\u001b[K     |█████████                       | 71kB 2.3MB/s eta 0:00:01\r\u001b[K     |██████████▎                     | 81kB 2.5MB/s eta 0:00:01\r\u001b[K     |███████████▌                    | 92kB 2.4MB/s eta 0:00:01\r\u001b[K     |████████████▉                   | 102kB 2.6MB/s eta 0:00:01\r\u001b[K     |██████████████                  | 112kB 2.6MB/s eta 0:00:01\r\u001b[K     |███████████████▍                | 122kB 2.6MB/s eta 0:00:01\r\u001b[K     |████████████████▊               | 133kB 2.6MB/s eta 0:00:01\r\u001b[K     |██████████████████              | 143kB 2.6MB/s eta 0:00:01\r\u001b[K     |███████████████████▎            | 153kB 2.6MB/s eta 0:00:01\r\u001b[K     |████████████████████▌           | 163kB 2.6MB/s eta 0:00:01\r\u001b[K     |█████████████████████▉          | 174kB 2.6MB/s eta 0:00:01\r\u001b[K     |███████████████████████         | 184kB 2.6MB/s eta 0:00:01\r\u001b[K     |████████████████████████▍       | 194kB 2.6MB/s eta 0:00:01\r\u001b[K     |█████████████████████████▋      | 204kB 2.6MB/s eta 0:00:01\r\u001b[K     |███████████████████████████     | 215kB 2.6MB/s eta 0:00:01\r\u001b[K     |████████████████████████████▏   | 225kB 2.6MB/s eta 0:00:01\r\u001b[K     |█████████████████████████████▌  | 235kB 2.6MB/s eta 0:00:01\r\u001b[K     |██████████████████████████████▊ | 245kB 2.6MB/s eta 0:00:01\r\u001b[K     |████████████████████████████████| 256kB 2.6MB/s \n",
            "\u001b[?25hRequirement already satisfied: textblob in /usr/local/lib/python3.6/dist-packages (from pycaret) (0.15.3)\n",
            "Requirement already satisfied: spacy in /usr/local/lib/python3.6/dist-packages (from pycaret) (2.2.4)\n",
            "Requirement already satisfied: wordcloud in /usr/local/lib/python3.6/dist-packages (from pycaret) (1.5.0)\n",
            "Collecting scikit-learn>=0.23\n",
            "\u001b[?25l  Downloading https://files.pythonhosted.org/packages/5c/a1/273def87037a7fb010512bbc5901c31cfddfca8080bc63b42b26e3cc55b3/scikit_learn-0.23.2-cp36-cp36m-manylinux1_x86_64.whl (6.8MB)\n",
            "\u001b[K     |████████████████████████████████| 6.8MB 4.5MB/s \n",
            "\u001b[?25hRequirement already satisfied: plotly>=4.4.1 in /usr/local/lib/python3.6/dist-packages (from pycaret) (4.4.1)\n",
            "Requirement already satisfied: matplotlib in /usr/local/lib/python3.6/dist-packages (from pycaret) (3.2.2)\n",
            "Collecting DateTime>=4.3\n",
            "\u001b[?25l  Downloading https://files.pythonhosted.org/packages/73/22/a5297f3a1f92468cc737f8ce7ba6e5f245fcfafeae810ba37bd1039ea01c/DateTime-4.3-py2.py3-none-any.whl (60kB)\n",
            "\u001b[K     |████████████████████████████████| 61kB 6.9MB/s \n",
            "\u001b[?25hCollecting yellowbrick>=1.0.1\n",
            "\u001b[?25l  Downloading https://files.pythonhosted.org/packages/13/95/a14e4fdfb8b1c8753bbe74a626e910a98219ef9c87c6763585bbd30d84cf/yellowbrick-1.1-py3-none-any.whl (263kB)\n",
            "\u001b[K     |████████████████████████████████| 266kB 46.8MB/s \n",
            "\u001b[?25hRequirement already satisfied: pandas in /usr/local/lib/python3.6/dist-packages (from pycaret) (1.0.5)\n",
            "Requirement already satisfied: numpy>=1.17 in /usr/local/lib/python3.6/dist-packages (from pycaret) (1.18.5)\n",
            "Requirement already satisfied: seaborn in /usr/local/lib/python3.6/dist-packages (from pycaret) (0.10.1)\n",
            "Requirement already satisfied: umap-learn in /usr/local/lib/python3.6/dist-packages (from pycaret) (0.4.6)\n",
            "Requirement already satisfied: nltk in /usr/local/lib/python3.6/dist-packages (from pycaret) (3.2.5)\n",
            "Collecting kmodes>=0.10.1\n",
            "  Downloading https://files.pythonhosted.org/packages/b2/55/d8ec1ae1f7e1e202a8a4184c6852a3ee993b202b0459672c699d0ac18fc8/kmodes-0.10.2-py2.py3-none-any.whl\n",
            "Collecting datefinder>=0.7.0\n",
            "  Downloading https://files.pythonhosted.org/packages/0c/4f/29524c9ca35d2ba1a8a3c6c895b90fc92525cf0fe357f747133890953ebe/datefinder-0.7.1-py2.py3-none-any.whl\n",
            "Collecting catboost\n",
            "\u001b[?25l  Downloading https://files.pythonhosted.org/packages/96/6c/6608210b29649267de52001b09e369777ee2a5cfe1c71fa75eba82a4f2dc/catboost-0.24-cp36-none-manylinux1_x86_64.whl (65.9MB)\n",
            "\u001b[K     |████████████████████████████████| 65.9MB 74kB/s \n",
            "\u001b[?25hRequirement already satisfied: mlxtend in /usr/local/lib/python3.6/dist-packages (from pycaret) (0.14.0)\n",
            "Requirement already satisfied: IPython in /usr/local/lib/python3.6/dist-packages (from pycaret) (5.5.0)\n",
            "Collecting pyLDAvis\n",
            "\u001b[?25l  Downloading https://files.pythonhosted.org/packages/a5/3a/af82e070a8a96e13217c8f362f9a73e82d61ac8fff3a2561946a97f96266/pyLDAvis-2.1.2.tar.gz (1.6MB)\n",
            "\u001b[K     |████████████████████████████████| 1.6MB 42.3MB/s \n",
            "\u001b[?25hRequirement already satisfied: ipywidgets in /usr/local/lib/python3.6/dist-packages (from pycaret) (7.5.1)\n",
            "Requirement already satisfied: imbalanced-learn in /usr/local/lib/python3.6/dist-packages (from pycaret) (0.4.3)\n",
            "Collecting mlflow\n",
            "\u001b[?25l  Downloading https://files.pythonhosted.org/packages/00/2f/2529268d85af0a1521b0b7c137b63b731dff4784e1322fb3055403a959fb/mlflow-1.10.0-py3-none-any.whl (12.4MB)\n",
            "\u001b[K     |████████████████████████████████| 12.4MB 45.8MB/s \n",
            "\u001b[?25hRequirement already satisfied: gensim in /usr/local/lib/python3.6/dist-packages (from pycaret) (3.6.0)\n",
            "Collecting lightgbm>=2.3.1\n",
            "\u001b[?25l  Downloading https://files.pythonhosted.org/packages/0b/9d/ddcb2f43aca194987f1a99e27edf41cf9bc39ea750c3371c2a62698c509a/lightgbm-2.3.1-py2.py3-none-manylinux1_x86_64.whl (1.2MB)\n",
            "\u001b[K     |████████████████████████████████| 1.2MB 26.1MB/s \n",
            "\u001b[?25hCollecting pyod\n",
            "\u001b[?25l  Downloading https://files.pythonhosted.org/packages/77/4e/5767edaccbfc227914ca774cb6ca9b628a08cbb59b9b4839296953a63d34/pyod-0.8.1.tar.gz (93kB)\n",
            "\u001b[K     |████████████████████████████████| 102kB 10.1MB/s \n",
            "\u001b[?25hRequirement already satisfied: joblib in /usr/local/lib/python3.6/dist-packages (from pycaret) (0.16.0)\n",
            "Requirement already satisfied: xgboost>=0.90 in /usr/local/lib/python3.6/dist-packages (from pycaret) (0.90)\n",
            "Requirement already satisfied: cufflinks>=0.17.0 in /usr/local/lib/python3.6/dist-packages (from pycaret) (0.17.3)\n",
            "Collecting pandas-profiling>=2.3.0\n",
            "\u001b[?25l  Downloading https://files.pythonhosted.org/packages/b9/94/ef8ef4517540d13406fcc0b8adfd75336e014242c69bd4162ab46931f36a/pandas_profiling-2.8.0-py2.py3-none-any.whl (259kB)\n",
            "\u001b[K     |████████████████████████████████| 266kB 39.3MB/s \n",
            "\u001b[?25hRequirement already satisfied: preshed<3.1.0,>=3.0.2 in /usr/local/lib/python3.6/dist-packages (from spacy->pycaret) (3.0.2)\n",
            "Requirement already satisfied: setuptools in /usr/local/lib/python3.6/dist-packages (from spacy->pycaret) (49.2.0)\n",
            "Requirement already satisfied: blis<0.5.0,>=0.4.0 in /usr/local/lib/python3.6/dist-packages (from spacy->pycaret) (0.4.1)\n",
            "Requirement already satisfied: thinc==7.4.0 in /usr/local/lib/python3.6/dist-packages (from spacy->pycaret) (7.4.0)\n",
            "Requirement already satisfied: requests<3.0.0,>=2.13.0 in /usr/local/lib/python3.6/dist-packages (from spacy->pycaret) (2.23.0)\n",
            "Requirement already satisfied: tqdm<5.0.0,>=4.38.0 in /usr/local/lib/python3.6/dist-packages (from spacy->pycaret) (4.41.1)\n",
            "Requirement already satisfied: plac<1.2.0,>=0.9.6 in /usr/local/lib/python3.6/dist-packages (from spacy->pycaret) (1.1.3)\n",
            "Requirement already satisfied: wasabi<1.1.0,>=0.4.0 in /usr/local/lib/python3.6/dist-packages (from spacy->pycaret) (0.7.1)\n",
            "Requirement already satisfied: catalogue<1.1.0,>=0.0.7 in /usr/local/lib/python3.6/dist-packages (from spacy->pycaret) (1.0.0)\n",
            "Requirement already satisfied: srsly<1.1.0,>=1.0.2 in /usr/local/lib/python3.6/dist-packages (from spacy->pycaret) (1.0.2)\n",
            "Requirement already satisfied: cymem<2.1.0,>=2.0.2 in /usr/local/lib/python3.6/dist-packages (from spacy->pycaret) (2.0.3)\n",
            "Requirement already satisfied: murmurhash<1.1.0,>=0.28.0 in /usr/local/lib/python3.6/dist-packages (from spacy->pycaret) (1.0.2)\n",
            "Requirement already satisfied: pillow in /usr/local/lib/python3.6/dist-packages (from wordcloud->pycaret) (7.0.0)\n",
            "Requirement already satisfied: scipy>=0.19.1 in /usr/local/lib/python3.6/dist-packages (from scikit-learn>=0.23->pycaret) (1.4.1)\n",
            "Collecting threadpoolctl>=2.0.0\n",
            "  Downloading https://files.pythonhosted.org/packages/f7/12/ec3f2e203afa394a149911729357aa48affc59c20e2c1c8297a60f33f133/threadpoolctl-2.1.0-py3-none-any.whl\n",
            "Requirement already satisfied: six in /usr/local/lib/python3.6/dist-packages (from plotly>=4.4.1->pycaret) (1.15.0)\n",
            "Requirement already satisfied: retrying>=1.3.3 in /usr/local/lib/python3.6/dist-packages (from plotly>=4.4.1->pycaret) (1.3.3)\n",
            "Requirement already satisfied: cycler>=0.10 in /usr/local/lib/python3.6/dist-packages (from matplotlib->pycaret) (0.10.0)\n",
            "Requirement already satisfied: python-dateutil>=2.1 in /usr/local/lib/python3.6/dist-packages (from matplotlib->pycaret) (2.8.1)\n",
            "Requirement already satisfied: kiwisolver>=1.0.1 in /usr/local/lib/python3.6/dist-packages (from matplotlib->pycaret) (1.2.0)\n",
            "Requirement already satisfied: pyparsing!=2.0.4,!=2.1.2,!=2.1.6,>=2.0.1 in /usr/local/lib/python3.6/dist-packages (from matplotlib->pycaret) (2.4.7)\n",
            "Requirement already satisfied: pytz in /usr/local/lib/python3.6/dist-packages (from DateTime>=4.3->pycaret) (2018.9)\n",
            "Collecting zope.interface\n",
            "\u001b[?25l  Downloading https://files.pythonhosted.org/packages/57/33/565274c28a11af60b7cfc0519d46bde4125fcd7d32ebc0a81b480d0e8da6/zope.interface-5.1.0-cp36-cp36m-manylinux2010_x86_64.whl (234kB)\n",
            "\u001b[K     |████████████████████████████████| 235kB 43.2MB/s \n",
            "\u001b[?25hRequirement already satisfied: numba!=0.47,>=0.46 in /usr/local/lib/python3.6/dist-packages (from umap-learn->pycaret) (0.48.0)\n",
            "Requirement already satisfied: regex>=2017.02.08 in /usr/local/lib/python3.6/dist-packages (from datefinder>=0.7.0->pycaret) (2019.12.20)\n",
            "Requirement already satisfied: graphviz in /usr/local/lib/python3.6/dist-packages (from catboost->pycaret) (0.10.1)\n",
            "Requirement already satisfied: decorator in /usr/local/lib/python3.6/dist-packages (from IPython->pycaret) (4.4.2)\n",
            "Requirement already satisfied: pickleshare in /usr/local/lib/python3.6/dist-packages (from IPython->pycaret) (0.7.5)\n",
            "Requirement already satisfied: pexpect; sys_platform != \"win32\" in /usr/local/lib/python3.6/dist-packages (from IPython->pycaret) (4.8.0)\n",
            "Requirement already satisfied: traitlets>=4.2 in /usr/local/lib/python3.6/dist-packages (from IPython->pycaret) (4.3.3)\n",
            "Requirement already satisfied: prompt-toolkit<2.0.0,>=1.0.4 in /usr/local/lib/python3.6/dist-packages (from IPython->pycaret) (1.0.18)\n",
            "Requirement already satisfied: simplegeneric>0.8 in /usr/local/lib/python3.6/dist-packages (from IPython->pycaret) (0.8.1)\n",
            "Requirement already satisfied: pygments in /usr/local/lib/python3.6/dist-packages (from IPython->pycaret) (2.1.3)\n",
            "Requirement already satisfied: wheel>=0.23.0 in /usr/local/lib/python3.6/dist-packages (from pyLDAvis->pycaret) (0.34.2)\n",
            "Requirement already satisfied: jinja2>=2.7.2 in /usr/local/lib/python3.6/dist-packages (from pyLDAvis->pycaret) (2.11.2)\n",
            "Requirement already satisfied: numexpr in /usr/local/lib/python3.6/dist-packages (from pyLDAvis->pycaret) (2.7.1)\n",
            "Requirement already satisfied: pytest in /usr/local/lib/python3.6/dist-packages (from pyLDAvis->pycaret) (3.6.4)\n",
            "Requirement already satisfied: future in /usr/local/lib/python3.6/dist-packages (from pyLDAvis->pycaret) (0.16.0)\n",
            "Collecting funcy\n",
            "\u001b[?25l  Downloading https://files.pythonhosted.org/packages/ce/4b/6ffa76544e46614123de31574ad95758c421aae391a1764921b8a81e1eae/funcy-1.14.tar.gz (548kB)\n",
            "\u001b[K     |████████████████████████████████| 552kB 39.2MB/s \n",
            "\u001b[?25hRequirement already satisfied: ipykernel>=4.5.1 in /usr/local/lib/python3.6/dist-packages (from ipywidgets->pycaret) (4.10.1)\n",
            "Requirement already satisfied: widgetsnbextension~=3.5.0 in /usr/local/lib/python3.6/dist-packages (from ipywidgets->pycaret) (3.5.1)\n",
            "Requirement already satisfied: nbformat>=4.2.0 in /usr/local/lib/python3.6/dist-packages (from ipywidgets->pycaret) (5.0.7)\n",
            "Collecting alembic\n",
            "\u001b[?25l  Downloading https://files.pythonhosted.org/packages/60/1e/cabc75a189de0fbb2841d0975243e59bde8b7822bacbb95008ac6fe9ad47/alembic-1.4.2.tar.gz (1.1MB)\n",
            "\u001b[K     |████████████████████████████████| 1.1MB 35.6MB/s \n",
            "\u001b[?25h  Installing build dependencies ... \u001b[?25l\u001b[?25hdone\n",
            "  Getting requirements to build wheel ... \u001b[?25l\u001b[?25hdone\n",
            "    Preparing wheel metadata ... \u001b[?25l\u001b[?25hdone\n",
            "Requirement already satisfied: pyyaml in /usr/local/lib/python3.6/dist-packages (from mlflow->pycaret) (3.13)\n",
            "Requirement already satisfied: cloudpickle in /usr/local/lib/python3.6/dist-packages (from mlflow->pycaret) (1.3.0)\n",
            "Collecting databricks-cli>=0.8.7\n",
            "\u001b[?25l  Downloading https://files.pythonhosted.org/packages/1e/57/5c2d6b83cb8753d12f548e89f91037632baa8289677c1b2ab2adf14bf6b2/databricks-cli-0.11.0.tar.gz (49kB)\n",
            "\u001b[K     |████████████████████████████████| 51kB 4.3MB/s \n",
            "\u001b[?25hCollecting gunicorn; platform_system != \"Windows\"\n",
            "\u001b[?25l  Downloading https://files.pythonhosted.org/packages/69/ca/926f7cd3a2014b16870086b2d0fdc84a9e49473c68a8dff8b57f7c156f43/gunicorn-20.0.4-py2.py3-none-any.whl (77kB)\n",
            "\u001b[K     |████████████████████████████████| 81kB 5.3MB/s \n",
            "\u001b[?25hCollecting sqlalchemy<=1.3.13\n",
            "\u001b[?25l  Downloading https://files.pythonhosted.org/packages/af/47/35edeb0f86c0b44934c05d961c893e223ef27e79e1f53b5e6f14820ff553/SQLAlchemy-1.3.13.tar.gz (6.0MB)\n",
            "\u001b[K     |████████████████████████████████| 6.0MB 33.2MB/s \n",
            "\u001b[?25hRequirement already satisfied: sqlparse in /usr/local/lib/python3.6/dist-packages (from mlflow->pycaret) (0.3.1)\n",
            "Requirement already satisfied: Flask in /usr/local/lib/python3.6/dist-packages (from mlflow->pycaret) (1.1.2)\n",
            "Collecting azure-storage-blob>=12.0\n",
            "\u001b[?25l  Downloading https://files.pythonhosted.org/packages/60/dc/3c25aeab827266c019e13abc07f31b5f47d93f1b8548a417c81c89c9d021/azure_storage_blob-12.4.0-py2.py3-none-any.whl (326kB)\n",
            "\u001b[K     |████████████████████████████████| 327kB 35.2MB/s \n",
            "\u001b[?25hRequirement already satisfied: click>=7.0 in /usr/local/lib/python3.6/dist-packages (from mlflow->pycaret) (7.1.2)\n",
            "Collecting gorilla\n",
            "  Downloading https://files.pythonhosted.org/packages/e3/56/5a683944cbfc77e429c6f03c636ca50504a785f60ffae91ddd7f5f7bb520/gorilla-0.3.0-py2.py3-none-any.whl\n",
            "Collecting docker>=4.0.0\n",
            "\u001b[?25l  Downloading https://files.pythonhosted.org/packages/9e/8c/8d42dbd83679483db207535f4fb02dc84325fa78b290f057694b057fcd21/docker-4.3.1-py2.py3-none-any.whl (145kB)\n",
            "\u001b[K     |████████████████████████████████| 153kB 39.6MB/s \n",
            "\u001b[?25hCollecting gitpython>=2.1.0\n",
            "\u001b[?25l  Downloading https://files.pythonhosted.org/packages/f9/1e/a45320cab182bf1c8656107b3d4c042e659742822fc6bff150d769a984dd/GitPython-3.1.7-py3-none-any.whl (158kB)\n",
            "\u001b[K     |████████████████████████████████| 163kB 44.4MB/s \n",
            "\u001b[?25hCollecting querystring-parser\n",
            "  Downloading https://files.pythonhosted.org/packages/4a/fa/f54f5662e0eababf0c49e92fd94bf178888562c0e7b677c8941bbbcd1bd6/querystring_parser-1.2.4.tar.gz\n",
            "Requirement already satisfied: protobuf>=3.6.0 in /usr/local/lib/python3.6/dist-packages (from mlflow->pycaret) (3.12.4)\n",
            "Requirement already satisfied: entrypoints in /usr/local/lib/python3.6/dist-packages (from mlflow->pycaret) (0.3)\n",
            "Collecting prometheus-flask-exporter\n",
            "  Downloading https://files.pythonhosted.org/packages/84/b0/7549899a75e7ef0be5f8969094d0709e5dcc51dc21d58cc86b8d69441dce/prometheus_flask_exporter-0.15.4.tar.gz\n",
            "Requirement already satisfied: smart-open>=1.2.1 in /usr/local/lib/python3.6/dist-packages (from gensim->pycaret) (2.1.0)\n",
            "Collecting combo\n",
            "  Downloading https://files.pythonhosted.org/packages/0a/2a/61b6ac584e75d8df16dc27962aa5fe99d76b09da5b6710e83d4862c84001/combo-0.1.1.tar.gz\n",
            "Collecting suod\n",
            "\u001b[?25l  Downloading https://files.pythonhosted.org/packages/a1/87/9170cabe1b5e10a7d095c0e28f2e30e7c1886a13f063de85d3cfacc06f4b/suod-0.0.4.tar.gz (2.1MB)\n",
            "\u001b[K     |████████████████████████████████| 2.1MB 34.4MB/s \n",
            "\u001b[?25hRequirement already satisfied: colorlover>=0.2.1 in /usr/local/lib/python3.6/dist-packages (from cufflinks>=0.17.0->pycaret) (0.3.0)\n",
            "Collecting confuse>=1.0.0\n",
            "\u001b[?25l  Downloading https://files.pythonhosted.org/packages/b5/6d/bedc0d1068bd244cee05843313cbec6cebb9f01f925538269bababc6d887/confuse-1.3.0-py2.py3-none-any.whl (64kB)\n",
            "\u001b[K     |████████████████████████████████| 71kB 8.6MB/s \n",
            "\u001b[?25hCollecting phik>=0.9.10\n",
            "\u001b[?25l  Downloading https://files.pythonhosted.org/packages/01/5a/7ef1c04ce62cd72f900c06298dc2385840550d5c653a0dbc19109a5477e6/phik-0.10.0-py3-none-any.whl (599kB)\n",
            "\u001b[K     |████████████████████████████████| 604kB 41.5MB/s \n",
            "\u001b[?25hCollecting visions[type_image_path]==0.4.4\n",
            "\u001b[?25l  Downloading https://files.pythonhosted.org/packages/4a/03/5a45d542257830cf1d9da2cdc1c0bc6f55a9212937b70fdd6d7031b46d6c/visions-0.4.4-py3-none-any.whl (59kB)\n",
            "\u001b[K     |████████████████████████████████| 61kB 7.2MB/s \n",
            "\u001b[?25hCollecting tangled-up-in-unicode>=0.0.6\n",
            "\u001b[?25l  Downloading https://files.pythonhosted.org/packages/4a/e2/e588ab9298d4989ce7fdb2b97d18aac878d99dbdc379a4476a09d9271b68/tangled_up_in_unicode-0.0.6-py3-none-any.whl (3.1MB)\n",
            "\u001b[K     |████████████████████████████████| 3.1MB 45.3MB/s \n",
            "\u001b[?25hRequirement already satisfied: missingno>=0.4.2 in /usr/local/lib/python3.6/dist-packages (from pandas-profiling>=2.3.0->pycaret) (0.4.2)\n",
            "Collecting htmlmin>=0.1.12\n",
            "  Downloading https://files.pythonhosted.org/packages/b3/e7/fcd59e12169de19f0131ff2812077f964c6b960e7c09804d30a7bf2ab461/htmlmin-0.1.12.tar.gz\n",
            "Requirement already satisfied: astropy>=4.0 in /usr/local/lib/python3.6/dist-packages (from pandas-profiling>=2.3.0->pycaret) (4.0.1.post1)\n",
            "Requirement already satisfied: chardet<4,>=3.0.2 in /usr/local/lib/python3.6/dist-packages (from requests<3.0.0,>=2.13.0->spacy->pycaret) (3.0.4)\n",
            "Requirement already satisfied: urllib3!=1.25.0,!=1.25.1,<1.26,>=1.21.1 in /usr/local/lib/python3.6/dist-packages (from requests<3.0.0,>=2.13.0->spacy->pycaret) (1.24.3)\n",
            "Requirement already satisfied: idna<3,>=2.5 in /usr/local/lib/python3.6/dist-packages (from requests<3.0.0,>=2.13.0->spacy->pycaret) (2.10)\n",
            "Requirement already satisfied: certifi>=2017.4.17 in /usr/local/lib/python3.6/dist-packages (from requests<3.0.0,>=2.13.0->spacy->pycaret) (2020.6.20)\n",
            "Requirement already satisfied: importlib-metadata>=0.20; python_version < \"3.8\" in /usr/local/lib/python3.6/dist-packages (from catalogue<1.1.0,>=0.0.7->spacy->pycaret) (1.7.0)\n",
            "Requirement already satisfied: llvmlite<0.32.0,>=0.31.0dev0 in /usr/local/lib/python3.6/dist-packages (from numba!=0.47,>=0.46->umap-learn->pycaret) (0.31.0)\n",
            "Requirement already satisfied: ptyprocess>=0.5 in /usr/local/lib/python3.6/dist-packages (from pexpect; sys_platform != \"win32\"->IPython->pycaret) (0.6.0)\n",
            "Requirement already satisfied: ipython-genutils in /usr/local/lib/python3.6/dist-packages (from traitlets>=4.2->IPython->pycaret) (0.2.0)\n",
            "Requirement already satisfied: wcwidth in /usr/local/lib/python3.6/dist-packages (from prompt-toolkit<2.0.0,>=1.0.4->IPython->pycaret) (0.2.5)\n",
            "Requirement already satisfied: MarkupSafe>=0.23 in /usr/local/lib/python3.6/dist-packages (from jinja2>=2.7.2->pyLDAvis->pycaret) (1.1.1)\n",
            "Requirement already satisfied: py>=1.5.0 in /usr/local/lib/python3.6/dist-packages (from pytest->pyLDAvis->pycaret) (1.9.0)\n",
            "Requirement already satisfied: attrs>=17.4.0 in /usr/local/lib/python3.6/dist-packages (from pytest->pyLDAvis->pycaret) (19.3.0)\n",
            "Requirement already satisfied: pluggy<0.8,>=0.5 in /usr/local/lib/python3.6/dist-packages (from pytest->pyLDAvis->pycaret) (0.7.1)\n",
            "Requirement already satisfied: more-itertools>=4.0.0 in /usr/local/lib/python3.6/dist-packages (from pytest->pyLDAvis->pycaret) (8.4.0)\n",
            "Requirement already satisfied: atomicwrites>=1.0 in /usr/local/lib/python3.6/dist-packages (from pytest->pyLDAvis->pycaret) (1.4.0)\n",
            "Requirement already satisfied: tornado>=4.0 in /usr/local/lib/python3.6/dist-packages (from ipykernel>=4.5.1->ipywidgets->pycaret) (5.1.1)\n",
            "Requirement already satisfied: jupyter-client in /usr/local/lib/python3.6/dist-packages (from ipykernel>=4.5.1->ipywidgets->pycaret) (5.3.5)\n",
            "Requirement already satisfied: notebook>=4.4.1 in /usr/local/lib/python3.6/dist-packages (from widgetsnbextension~=3.5.0->ipywidgets->pycaret) (5.3.1)\n",
            "Requirement already satisfied: jupyter-core in /usr/local/lib/python3.6/dist-packages (from nbformat>=4.2.0->ipywidgets->pycaret) (4.6.3)\n",
            "Requirement already satisfied: jsonschema!=2.5.0,>=2.4 in /usr/local/lib/python3.6/dist-packages (from nbformat>=4.2.0->ipywidgets->pycaret) (2.6.0)\n",
            "Collecting python-editor>=0.3\n",
            "  Downloading https://files.pythonhosted.org/packages/c6/d3/201fc3abe391bbae6606e6f1d598c15d367033332bd54352b12f35513717/python_editor-1.0.4-py3-none-any.whl\n",
            "Collecting Mako\n",
            "\u001b[?25l  Downloading https://files.pythonhosted.org/packages/a6/37/0e706200d22172eb8fa17d68a7ae22dec7631a0a92266634fb518a88a5b2/Mako-1.1.3-py2.py3-none-any.whl (75kB)\n",
            "\u001b[K     |████████████████████████████████| 81kB 8.9MB/s \n",
            "\u001b[?25hRequirement already satisfied: tabulate>=0.7.7 in /usr/local/lib/python3.6/dist-packages (from databricks-cli>=0.8.7->mlflow->pycaret) (0.8.7)\n",
            "Requirement already satisfied: itsdangerous>=0.24 in /usr/local/lib/python3.6/dist-packages (from Flask->mlflow->pycaret) (1.1.0)\n",
            "Requirement already satisfied: Werkzeug>=0.15 in /usr/local/lib/python3.6/dist-packages (from Flask->mlflow->pycaret) (1.0.1)\n",
            "Collecting cryptography>=2.1.4\n",
            "\u001b[?25l  Downloading https://files.pythonhosted.org/packages/ba/91/84a29d6a27fd6dfc21f475704c4d2053d58ed7a4033c2b0ce1b4ca4d03d9/cryptography-3.0-cp35-abi3-manylinux2010_x86_64.whl (2.7MB)\n",
            "\u001b[K     |████████████████████████████████| 2.7MB 32.9MB/s \n",
            "\u001b[?25hCollecting msrest>=0.6.10\n",
            "\u001b[?25l  Downloading https://files.pythonhosted.org/packages/d9/ed/8e1b75721ad983c1672cd968ad3ae374d2e94767edff6f0b72a15dfde933/msrest-0.6.18-py2.py3-none-any.whl (84kB)\n",
            "\u001b[K     |████████████████████████████████| 92kB 11.4MB/s \n",
            "\u001b[?25hCollecting azure-core<2.0.0,>=1.6.0\n",
            "\u001b[?25l  Downloading https://files.pythonhosted.org/packages/5b/e3/acb0c45c0b7afa33eca9fadb47f32cbfb95161e3719fcbe953d689b881bc/azure_core-1.8.0-py2.py3-none-any.whl (121kB)\n",
            "\u001b[K     |████████████████████████████████| 122kB 50.8MB/s \n",
            "\u001b[?25hCollecting websocket-client>=0.32.0\n",
            "\u001b[?25l  Downloading https://files.pythonhosted.org/packages/4c/5f/f61b420143ed1c8dc69f9eaec5ff1ac36109d52c80de49d66e0c36c3dfdf/websocket_client-0.57.0-py2.py3-none-any.whl (200kB)\n",
            "\u001b[K     |████████████████████████████████| 204kB 51.6MB/s \n",
            "\u001b[?25hCollecting gitdb<5,>=4.0.1\n",
            "\u001b[?25l  Downloading https://files.pythonhosted.org/packages/48/11/d1800bca0a3bae820b84b7d813ad1eff15a48a64caea9c823fc8c1b119e8/gitdb-4.0.5-py3-none-any.whl (63kB)\n",
            "\u001b[K     |████████████████████████████████| 71kB 9.0MB/s \n",
            "\u001b[?25hRequirement already satisfied: prometheus_client in /usr/local/lib/python3.6/dist-packages (from prometheus-flask-exporter->mlflow->pycaret) (0.8.0)\n",
            "Requirement already satisfied: boto in /usr/local/lib/python3.6/dist-packages (from smart-open>=1.2.1->gensim->pycaret) (2.49.0)\n",
            "Requirement already satisfied: boto3 in /usr/local/lib/python3.6/dist-packages (from smart-open>=1.2.1->gensim->pycaret) (1.14.37)\n",
            "Requirement already satisfied: networkx>=2.4 in /usr/local/lib/python3.6/dist-packages (from visions[type_image_path]==0.4.4->pandas-profiling>=2.3.0->pycaret) (2.4)\n",
            "Collecting imagehash; extra == \"type_image_path\"\n",
            "\u001b[?25l  Downloading https://files.pythonhosted.org/packages/1a/5d/cc81830be3c4705a46cdbca74439b67f1017881383ba0127c41c4cecb7b3/ImageHash-4.1.0.tar.gz (291kB)\n",
            "\u001b[K     |████████████████████████████████| 296kB 48.2MB/s \n",
            "\u001b[?25hRequirement already satisfied: zipp>=0.5 in /usr/local/lib/python3.6/dist-packages (from importlib-metadata>=0.20; python_version < \"3.8\"->catalogue<1.1.0,>=0.0.7->spacy->pycaret) (3.1.0)\n",
            "Requirement already satisfied: pyzmq>=13 in /usr/local/lib/python3.6/dist-packages (from jupyter-client->ipykernel>=4.5.1->ipywidgets->pycaret) (19.0.2)\n",
            "Requirement already satisfied: Send2Trash in /usr/local/lib/python3.6/dist-packages (from notebook>=4.4.1->widgetsnbextension~=3.5.0->ipywidgets->pycaret) (1.5.0)\n",
            "Requirement already satisfied: nbconvert in /usr/local/lib/python3.6/dist-packages (from notebook>=4.4.1->widgetsnbextension~=3.5.0->ipywidgets->pycaret) (5.6.1)\n",
            "Requirement already satisfied: terminado>=0.8.1 in /usr/local/lib/python3.6/dist-packages (from notebook>=4.4.1->widgetsnbextension~=3.5.0->ipywidgets->pycaret) (0.8.3)\n",
            "Requirement already satisfied: cffi!=1.11.3,>=1.8 in /usr/local/lib/python3.6/dist-packages (from cryptography>=2.1.4->azure-storage-blob>=12.0->mlflow->pycaret) (1.14.1)\n",
            "Requirement already satisfied: requests-oauthlib>=0.5.0 in /usr/local/lib/python3.6/dist-packages (from msrest>=0.6.10->azure-storage-blob>=12.0->mlflow->pycaret) (1.3.0)\n",
            "Collecting isodate>=0.6.0\n",
            "\u001b[?25l  Downloading https://files.pythonhosted.org/packages/9b/9f/b36f7774ff5ea8e428fdcfc4bb332c39ee5b9362ddd3d40d9516a55221b2/isodate-0.6.0-py2.py3-none-any.whl (45kB)\n",
            "\u001b[K     |████████████████████████████████| 51kB 5.9MB/s \n",
            "\u001b[?25hCollecting smmap<4,>=3.0.1\n",
            "  Downloading https://files.pythonhosted.org/packages/b0/9a/4d409a6234eb940e6a78dfdfc66156e7522262f5f2fecca07dc55915952d/smmap-3.0.4-py2.py3-none-any.whl\n",
            "Requirement already satisfied: botocore<1.18.0,>=1.17.37 in /usr/local/lib/python3.6/dist-packages (from boto3->smart-open>=1.2.1->gensim->pycaret) (1.17.37)\n",
            "Requirement already satisfied: jmespath<1.0.0,>=0.7.1 in /usr/local/lib/python3.6/dist-packages (from boto3->smart-open>=1.2.1->gensim->pycaret) (0.10.0)\n",
            "Requirement already satisfied: s3transfer<0.4.0,>=0.3.0 in /usr/local/lib/python3.6/dist-packages (from boto3->smart-open>=1.2.1->gensim->pycaret) (0.3.3)\n",
            "Requirement already satisfied: PyWavelets in /usr/local/lib/python3.6/dist-packages (from imagehash; extra == \"type_image_path\"->visions[type_image_path]==0.4.4->pandas-profiling>=2.3.0->pycaret) (1.1.1)\n",
            "Requirement already satisfied: mistune<2,>=0.8.1 in /usr/local/lib/python3.6/dist-packages (from nbconvert->notebook>=4.4.1->widgetsnbextension~=3.5.0->ipywidgets->pycaret) (0.8.4)\n",
            "Requirement already satisfied: pandocfilters>=1.4.1 in /usr/local/lib/python3.6/dist-packages (from nbconvert->notebook>=4.4.1->widgetsnbextension~=3.5.0->ipywidgets->pycaret) (1.4.2)\n",
            "Requirement already satisfied: bleach in /usr/local/lib/python3.6/dist-packages (from nbconvert->notebook>=4.4.1->widgetsnbextension~=3.5.0->ipywidgets->pycaret) (3.1.5)\n",
            "Requirement already satisfied: defusedxml in /usr/local/lib/python3.6/dist-packages (from nbconvert->notebook>=4.4.1->widgetsnbextension~=3.5.0->ipywidgets->pycaret) (0.6.0)\n",
            "Requirement already satisfied: testpath in /usr/local/lib/python3.6/dist-packages (from nbconvert->notebook>=4.4.1->widgetsnbextension~=3.5.0->ipywidgets->pycaret) (0.4.4)\n",
            "Requirement already satisfied: pycparser in /usr/local/lib/python3.6/dist-packages (from cffi!=1.11.3,>=1.8->cryptography>=2.1.4->azure-storage-blob>=12.0->mlflow->pycaret) (2.20)\n",
            "Requirement already satisfied: oauthlib>=3.0.0 in /usr/local/lib/python3.6/dist-packages (from requests-oauthlib>=0.5.0->msrest>=0.6.10->azure-storage-blob>=12.0->mlflow->pycaret) (3.1.0)\n",
            "Requirement already satisfied: docutils<0.16,>=0.10 in /usr/local/lib/python3.6/dist-packages (from botocore<1.18.0,>=1.17.37->boto3->smart-open>=1.2.1->gensim->pycaret) (0.15.2)\n",
            "Requirement already satisfied: webencodings in /usr/local/lib/python3.6/dist-packages (from bleach->nbconvert->notebook>=4.4.1->widgetsnbextension~=3.5.0->ipywidgets->pycaret) (0.5.1)\n",
            "Requirement already satisfied: packaging in /usr/local/lib/python3.6/dist-packages (from bleach->nbconvert->notebook>=4.4.1->widgetsnbextension~=3.5.0->ipywidgets->pycaret) (20.4)\n",
            "Building wheels for collected packages: alembic\n",
            "  Building wheel for alembic (PEP 517) ... \u001b[?25l\u001b[?25hdone\n",
            "  Created wheel for alembic: filename=alembic-1.4.2-cp36-none-any.whl size=159543 sha256=1509ec49b2d5eee55346128f032b87d9ff3da0e74d42745d7cfae424cfa74fd6\n",
            "  Stored in directory: /root/.cache/pip/wheels/1f/04/83/76023f7a4c14688c0b5c2682a96392cfdd3ee4449eaaa287ef\n",
            "Successfully built alembic\n",
            "Building wheels for collected packages: pyLDAvis, pyod, funcy, databricks-cli, sqlalchemy, querystring-parser, prometheus-flask-exporter, combo, suod, htmlmin, imagehash\n",
            "  Building wheel for pyLDAvis (setup.py) ... \u001b[?25l\u001b[?25hdone\n",
            "  Created wheel for pyLDAvis: filename=pyLDAvis-2.1.2-py2.py3-none-any.whl size=97711 sha256=6603f4930a044394839956c30780167e77792cec2a9d2c3f638870b00308e923\n",
            "  Stored in directory: /root/.cache/pip/wheels/98/71/24/513a99e58bb6b8465bae4d2d5e9dba8f0bef8179e3051ac414\n",
            "  Building wheel for pyod (setup.py) ... \u001b[?25l\u001b[?25hdone\n",
            "  Created wheel for pyod: filename=pyod-0.8.1-cp36-none-any.whl size=105653 sha256=9ca72968173e334f769388b19b17b9aa8a359b214c22b1ea01f9698991c5a6ca\n",
            "  Stored in directory: /root/.cache/pip/wheels/2e/ca/18/727e9d98a41f5f4385a97d5b429f3a9c8fbee13f9780c18642\n",
            "  Building wheel for funcy (setup.py) ... \u001b[?25l\u001b[?25hdone\n",
            "  Created wheel for funcy: filename=funcy-1.14-py2.py3-none-any.whl size=32042 sha256=19b9f06007fac14b3f3db2964729ed20464b7a9540f4ae110951fe26c13bb47a\n",
            "  Stored in directory: /root/.cache/pip/wheels/20/5a/d8/1d875df03deae6f178dfdf70238cca33f948ef8a6f5209f2eb\n",
            "  Building wheel for databricks-cli (setup.py) ... \u001b[?25l\u001b[?25hdone\n",
            "  Created wheel for databricks-cli: filename=databricks_cli-0.11.0-cp36-none-any.whl size=90300 sha256=99a052909b06112ede910f561d590956668779dc7061464ad17a5c007c657e3e\n",
            "  Stored in directory: /root/.cache/pip/wheels/63/d0/4f/3deeca1f4c47a6aca7c2c6a6e2bf272391565dc86a7718a59b\n",
            "  Building wheel for sqlalchemy (setup.py) ... \u001b[?25l\u001b[?25hdone\n",
            "  Created wheel for sqlalchemy: filename=SQLAlchemy-1.3.13-cp36-cp36m-linux_x86_64.whl size=1217148 sha256=e389710db294ebcb32c15655d2901fd4c8b1f8a0d853b1b40265838dd2d26515\n",
            "  Stored in directory: /root/.cache/pip/wheels/b3/35/98/4c9cb3fd63d21d5606b972dd70643769745adf60e622467b71\n",
            "  Building wheel for querystring-parser (setup.py) ... \u001b[?25l\u001b[?25hdone\n",
            "  Created wheel for querystring-parser: filename=querystring_parser-1.2.4-cp36-none-any.whl size=7079 sha256=991f693466f7507265f36db28ea4d1f55de312701116f1a5242688be296abef3\n",
            "  Stored in directory: /root/.cache/pip/wheels/1e/41/34/23ebf5d1089a9aed847951e0ee375426eb4ad0a7079d88d41e\n",
            "  Building wheel for prometheus-flask-exporter (setup.py) ... \u001b[?25l\u001b[?25hdone\n",
            "  Created wheel for prometheus-flask-exporter: filename=prometheus_flask_exporter-0.15.4-cp36-none-any.whl size=16454 sha256=005b88cc2ed72fd8bac9912e1f4179bc8f94354137772277fdb006984b903fc0\n",
            "  Stored in directory: /root/.cache/pip/wheels/4f/b4/70/b18fa12c1c0a30fd542767dbbcdac225c6aae012fa1b3124e4\n",
            "  Building wheel for combo (setup.py) ... \u001b[?25l\u001b[?25hdone\n",
            "  Created wheel for combo: filename=combo-0.1.1-cp36-none-any.whl size=42111 sha256=f5667564db074443b94a50cbf953712718dca103dce844e702c69a3373cca749\n",
            "  Stored in directory: /root/.cache/pip/wheels/55/ec/e5/a2331372c676c467e70c6646e646edf6997d5c4905b8c0f5e6\n",
            "  Building wheel for suod (setup.py) ... \u001b[?25l\u001b[?25hdone\n",
            "  Created wheel for suod: filename=suod-0.0.4-cp36-none-any.whl size=2167157 sha256=771d2a15326c8c02b5ba591c201cf7c43b69bfd48038f6fb4a45f5f9db8a7897\n",
            "  Stored in directory: /root/.cache/pip/wheels/57/55/e5/a4fca65bba231f6d0115059b589148774b41faea25b3f2aa27\n",
            "  Building wheel for htmlmin (setup.py) ... \u001b[?25l\u001b[?25hdone\n",
            "  Created wheel for htmlmin: filename=htmlmin-0.1.12-cp36-none-any.whl size=27084 sha256=21ccdd44b07e26cbb85f2a27cec6eee76e13160e4fe207b70b165706ba0bf8a4\n",
            "  Stored in directory: /root/.cache/pip/wheels/43/07/ac/7c5a9d708d65247ac1f94066cf1db075540b85716c30255459\n",
            "  Building wheel for imagehash (setup.py) ... \u001b[?25l\u001b[?25hdone\n",
            "  Created wheel for imagehash: filename=ImageHash-4.1.0-py2.py3-none-any.whl size=291990 sha256=86a038f1c041313c4a670c32b5e21575f2ae03984c48bc264ee97f135fae9325\n",
            "  Stored in directory: /root/.cache/pip/wheels/07/1c/dc/6831446f09feb8cc199ec73a0f2f0703253f6ae013a22f4be9\n",
            "Successfully built pyLDAvis pyod funcy databricks-cli sqlalchemy querystring-parser prometheus-flask-exporter combo suod htmlmin imagehash\n",
            "\u001b[31mERROR: pandas-profiling 2.8.0 has requirement tqdm>=4.43.0, but you'll have tqdm 4.41.1 which is incompatible.\u001b[0m\n",
            "Installing collected packages: threadpoolctl, scikit-learn, zope.interface, DateTime, yellowbrick, kmodes, datefinder, catboost, funcy, pyLDAvis, sqlalchemy, python-editor, Mako, alembic, databricks-cli, gunicorn, cryptography, isodate, msrest, azure-core, azure-storage-blob, gorilla, websocket-client, docker, smmap, gitdb, gitpython, querystring-parser, prometheus-flask-exporter, mlflow, lightgbm, combo, suod, pyod, confuse, phik, tangled-up-in-unicode, imagehash, visions, htmlmin, pandas-profiling, pycaret\n",
            "  Found existing installation: scikit-learn 0.22.2.post1\n",
            "    Uninstalling scikit-learn-0.22.2.post1:\n",
            "      Successfully uninstalled scikit-learn-0.22.2.post1\n",
            "  Found existing installation: yellowbrick 0.9.1\n",
            "    Uninstalling yellowbrick-0.9.1:\n",
            "      Successfully uninstalled yellowbrick-0.9.1\n",
            "  Found existing installation: SQLAlchemy 1.3.18\n",
            "    Uninstalling SQLAlchemy-1.3.18:\n",
            "      Successfully uninstalled SQLAlchemy-1.3.18\n",
            "  Found existing installation: lightgbm 2.2.3\n",
            "    Uninstalling lightgbm-2.2.3:\n",
            "      Successfully uninstalled lightgbm-2.2.3\n",
            "  Found existing installation: pandas-profiling 1.4.1\n",
            "    Uninstalling pandas-profiling-1.4.1:\n",
            "      Successfully uninstalled pandas-profiling-1.4.1\n",
            "Successfully installed DateTime-4.3 Mako-1.1.3 alembic-1.4.2 azure-core-1.8.0 azure-storage-blob-12.4.0 catboost-0.24 combo-0.1.1 confuse-1.3.0 cryptography-3.0 databricks-cli-0.11.0 datefinder-0.7.1 docker-4.3.1 funcy-1.14 gitdb-4.0.5 gitpython-3.1.7 gorilla-0.3.0 gunicorn-20.0.4 htmlmin-0.1.12 imagehash-4.1.0 isodate-0.6.0 kmodes-0.10.2 lightgbm-2.3.1 mlflow-1.10.0 msrest-0.6.18 pandas-profiling-2.8.0 phik-0.10.0 prometheus-flask-exporter-0.15.4 pyLDAvis-2.1.2 pycaret-2.0 pyod-0.8.1 python-editor-1.0.4 querystring-parser-1.2.4 scikit-learn-0.23.2 smmap-3.0.4 sqlalchemy-1.3.13 suod-0.0.4 tangled-up-in-unicode-0.0.6 threadpoolctl-2.1.0 visions-0.4.4 websocket-client-0.57.0 yellowbrick-1.1 zope.interface-5.1.0\n"
          ],
          "name": "stdout"
        },
        {
          "output_type": "display_data",
          "data": {
            "application/vnd.colab-display-data+json": {
              "pip_warning": {
                "packages": [
                  "sklearn"
                ]
              }
            }
          },
          "metadata": {
            "tags": []
          }
        }
      ]
    },
    {
      "cell_type": "code",
      "metadata": {
        "id": "gNOn1rp-X36s",
        "colab_type": "code",
        "colab": {}
      },
      "source": [
        "from pycaret.datasets import get_data\n",
        "import pandas as pd\n",
        "data = pd.read_csv('/content/fraud data - Sheet1.csv')"
      ],
      "execution_count": 11,
      "outputs": []
    },
    {
      "cell_type": "markdown",
      "metadata": {
        "id": "tHUrPHjb9XXj",
        "colab_type": "text"
      },
      "source": [
        ""
      ]
    },
    {
      "cell_type": "code",
      "metadata": {
        "id": "iXrHJJEUZ2Kg",
        "colab_type": "code",
        "colab": {
          "base_uri": "https://localhost:8080/",
          "height": 264
        },
        "outputId": "c18dc568-c909-4475-df09-ed7fba82017d"
      },
      "source": [
        "data.head(7)"
      ],
      "execution_count": 12,
      "outputs": [
        {
          "output_type": "execute_result",
          "data": {
            "text/html": [
              "<div>\n",
              "<style scoped>\n",
              "    .dataframe tbody tr th:only-of-type {\n",
              "        vertical-align: middle;\n",
              "    }\n",
              "\n",
              "    .dataframe tbody tr th {\n",
              "        vertical-align: top;\n",
              "    }\n",
              "\n",
              "    .dataframe thead th {\n",
              "        text-align: right;\n",
              "    }\n",
              "</style>\n",
              "<table border=\"1\" class=\"dataframe\">\n",
              "  <thead>\n",
              "    <tr style=\"text-align: right;\">\n",
              "      <th></th>\n",
              "      <th>Year</th>\n",
              "      <th>Channel</th>\n",
              "      <th>Value</th>\n",
              "      <th>Volume</th>\n",
              "    </tr>\n",
              "  </thead>\n",
              "  <tbody>\n",
              "    <tr>\n",
              "      <th>0</th>\n",
              "      <td>2014</td>\n",
              "      <td>ATM</td>\n",
              "      <td>2,688,669,200</td>\n",
              "      <td>491</td>\n",
              "    </tr>\n",
              "    <tr>\n",
              "      <th>1</th>\n",
              "      <td>2014</td>\n",
              "      <td>Internet Banking</td>\n",
              "      <td>212,088,150</td>\n",
              "      <td>287</td>\n",
              "    </tr>\n",
              "    <tr>\n",
              "      <th>2</th>\n",
              "      <td>2014</td>\n",
              "      <td>Mobile</td>\n",
              "      <td>13,328,957</td>\n",
              "      <td>21</td>\n",
              "    </tr>\n",
              "    <tr>\n",
              "      <th>3</th>\n",
              "      <td>2014</td>\n",
              "      <td>POS</td>\n",
              "      <td>157,610,831</td>\n",
              "      <td>166</td>\n",
              "    </tr>\n",
              "    <tr>\n",
              "      <th>4</th>\n",
              "      <td>2014</td>\n",
              "      <td>Web</td>\n",
              "      <td>1,031,239,284</td>\n",
              "      <td>218</td>\n",
              "    </tr>\n",
              "    <tr>\n",
              "      <th>5</th>\n",
              "      <td>2014</td>\n",
              "      <td>eCommerce</td>\n",
              "      <td>58,994,920</td>\n",
              "      <td>114</td>\n",
              "    </tr>\n",
              "    <tr>\n",
              "      <th>6</th>\n",
              "      <td>2015</td>\n",
              "      <td>ATM</td>\n",
              "      <td>355,892,200.00</td>\n",
              "      <td>5,133.00</td>\n",
              "    </tr>\n",
              "  </tbody>\n",
              "</table>\n",
              "</div>"
            ],
            "text/plain": [
              "   Year             Channel           Value    Volume\n",
              "0  2014                ATM    2,688,669,200       491\n",
              "1  2014  Internet Banking       212,088,150       287\n",
              "2  2014            Mobile        13,328,957        21\n",
              "3  2014               POS       157,610,831       166\n",
              "4  2014               Web     1,031,239,284       218\n",
              "5  2014         eCommerce        58,994,920       114\n",
              "6  2015                ATM   355,892,200.00  5,133.00"
            ]
          },
          "metadata": {
            "tags": []
          },
          "execution_count": 12
        }
      ]
    },
    {
      "cell_type": "code",
      "metadata": {
        "id": "-IjMKKx0Z9K1",
        "colab_type": "code",
        "colab": {}
      },
      "source": [
        "data['Value'] = data['Value'].str.replace(',', '').astype(float)\n",
        "data['Volume'] = data['Volume'].str.replace(',', '').astype(float)\n"
      ],
      "execution_count": 13,
      "outputs": []
    },
    {
      "cell_type": "code",
      "metadata": {
        "id": "sOkD0apgbEtK",
        "colab_type": "code",
        "colab": {}
      },
      "source": [
        "data['Year'] = data['Year'].astype(str).astype(int)"
      ],
      "execution_count": 14,
      "outputs": []
    },
    {
      "cell_type": "code",
      "metadata": {
        "id": "VLcrzKsaX32v",
        "colab_type": "code",
        "colab": {}
      },
      "source": [
        "from pycaret.regression import *"
      ],
      "execution_count": 15,
      "outputs": []
    },
    {
      "cell_type": "code",
      "metadata": {
        "id": "iVywexOfZva_",
        "colab_type": "code",
        "colab": {
          "base_uri": "https://localhost:8080/",
          "height": 856,
          "referenced_widgets": [
            "23d9d22cd24e44e4b265de9c937c1745",
            "50733ae70a5c4d9ba4b4ce1d6c3cfc84",
            "407c217aaef04fe59db10168aaf6b270",
            "62dbbec58d02482e93240a62ab6d5e28",
            "d2798b5ea008441699bd9aba6072337d",
            "c69f81315aa04875947582d368c76eed"
          ]
        },
        "outputId": "b420cebe-6fe5-4d69-8588-cb7d5f905681"
      },
      "source": [
        "s2 = setup(data, target = 'Volume', session_id = 123,\n",
        "           normalize = True,\n",
        "           polynomial_features = True, trigonometry_features = True, feature_interaction=True, \n",
        "          )"
      ],
      "execution_count": 16,
      "outputs": [
        {
          "output_type": "stream",
          "text": [
            " \n",
            "Setup Succesfully Completed.\n"
          ],
          "name": "stdout"
        },
        {
          "output_type": "display_data",
          "data": {
            "text/html": [
              "<style  type=\"text/css\" >\n",
              "    #T_7526077c_e398_11ea_82df_0242ac1c0002row15_col1 {\n",
              "            background-color:  yellow;\n",
              "        }    #T_7526077c_e398_11ea_82df_0242ac1c0002row32_col1 {\n",
              "            background-color:  yellow;\n",
              "        }    #T_7526077c_e398_11ea_82df_0242ac1c0002row34_col1 {\n",
              "            background-color:  yellow;\n",
              "        }    #T_7526077c_e398_11ea_82df_0242ac1c0002row39_col1 {\n",
              "            background-color:  yellow;\n",
              "        }</style><table id=\"T_7526077c_e398_11ea_82df_0242ac1c0002\" ><thead>    <tr>        <th class=\"blank level0\" ></th>        <th class=\"col_heading level0 col0\" >Description</th>        <th class=\"col_heading level0 col1\" >Value</th>    </tr></thead><tbody>\n",
              "                <tr>\n",
              "                        <th id=\"T_7526077c_e398_11ea_82df_0242ac1c0002level0_row0\" class=\"row_heading level0 row0\" >0</th>\n",
              "                        <td id=\"T_7526077c_e398_11ea_82df_0242ac1c0002row0_col0\" class=\"data row0 col0\" >session_id</td>\n",
              "                        <td id=\"T_7526077c_e398_11ea_82df_0242ac1c0002row0_col1\" class=\"data row0 col1\" >123</td>\n",
              "            </tr>\n",
              "            <tr>\n",
              "                        <th id=\"T_7526077c_e398_11ea_82df_0242ac1c0002level0_row1\" class=\"row_heading level0 row1\" >1</th>\n",
              "                        <td id=\"T_7526077c_e398_11ea_82df_0242ac1c0002row1_col0\" class=\"data row1 col0\" >Transform Target </td>\n",
              "                        <td id=\"T_7526077c_e398_11ea_82df_0242ac1c0002row1_col1\" class=\"data row1 col1\" >False</td>\n",
              "            </tr>\n",
              "            <tr>\n",
              "                        <th id=\"T_7526077c_e398_11ea_82df_0242ac1c0002level0_row2\" class=\"row_heading level0 row2\" >2</th>\n",
              "                        <td id=\"T_7526077c_e398_11ea_82df_0242ac1c0002row2_col0\" class=\"data row2 col0\" >Transform Target Method</td>\n",
              "                        <td id=\"T_7526077c_e398_11ea_82df_0242ac1c0002row2_col1\" class=\"data row2 col1\" >None</td>\n",
              "            </tr>\n",
              "            <tr>\n",
              "                        <th id=\"T_7526077c_e398_11ea_82df_0242ac1c0002level0_row3\" class=\"row_heading level0 row3\" >3</th>\n",
              "                        <td id=\"T_7526077c_e398_11ea_82df_0242ac1c0002row3_col0\" class=\"data row3 col0\" >Original Data</td>\n",
              "                        <td id=\"T_7526077c_e398_11ea_82df_0242ac1c0002row3_col1\" class=\"data row3 col1\" >(18, 4)</td>\n",
              "            </tr>\n",
              "            <tr>\n",
              "                        <th id=\"T_7526077c_e398_11ea_82df_0242ac1c0002level0_row4\" class=\"row_heading level0 row4\" >4</th>\n",
              "                        <td id=\"T_7526077c_e398_11ea_82df_0242ac1c0002row4_col0\" class=\"data row4 col0\" >Missing Values </td>\n",
              "                        <td id=\"T_7526077c_e398_11ea_82df_0242ac1c0002row4_col1\" class=\"data row4 col1\" >False</td>\n",
              "            </tr>\n",
              "            <tr>\n",
              "                        <th id=\"T_7526077c_e398_11ea_82df_0242ac1c0002level0_row5\" class=\"row_heading level0 row5\" >5</th>\n",
              "                        <td id=\"T_7526077c_e398_11ea_82df_0242ac1c0002row5_col0\" class=\"data row5 col0\" >Numeric Features </td>\n",
              "                        <td id=\"T_7526077c_e398_11ea_82df_0242ac1c0002row5_col1\" class=\"data row5 col1\" >1</td>\n",
              "            </tr>\n",
              "            <tr>\n",
              "                        <th id=\"T_7526077c_e398_11ea_82df_0242ac1c0002level0_row6\" class=\"row_heading level0 row6\" >6</th>\n",
              "                        <td id=\"T_7526077c_e398_11ea_82df_0242ac1c0002row6_col0\" class=\"data row6 col0\" >Categorical Features </td>\n",
              "                        <td id=\"T_7526077c_e398_11ea_82df_0242ac1c0002row6_col1\" class=\"data row6 col1\" >2</td>\n",
              "            </tr>\n",
              "            <tr>\n",
              "                        <th id=\"T_7526077c_e398_11ea_82df_0242ac1c0002level0_row7\" class=\"row_heading level0 row7\" >7</th>\n",
              "                        <td id=\"T_7526077c_e398_11ea_82df_0242ac1c0002row7_col0\" class=\"data row7 col0\" >Ordinal Features </td>\n",
              "                        <td id=\"T_7526077c_e398_11ea_82df_0242ac1c0002row7_col1\" class=\"data row7 col1\" >False</td>\n",
              "            </tr>\n",
              "            <tr>\n",
              "                        <th id=\"T_7526077c_e398_11ea_82df_0242ac1c0002level0_row8\" class=\"row_heading level0 row8\" >8</th>\n",
              "                        <td id=\"T_7526077c_e398_11ea_82df_0242ac1c0002row8_col0\" class=\"data row8 col0\" >High Cardinality Features </td>\n",
              "                        <td id=\"T_7526077c_e398_11ea_82df_0242ac1c0002row8_col1\" class=\"data row8 col1\" >False</td>\n",
              "            </tr>\n",
              "            <tr>\n",
              "                        <th id=\"T_7526077c_e398_11ea_82df_0242ac1c0002level0_row9\" class=\"row_heading level0 row9\" >9</th>\n",
              "                        <td id=\"T_7526077c_e398_11ea_82df_0242ac1c0002row9_col0\" class=\"data row9 col0\" >High Cardinality Method </td>\n",
              "                        <td id=\"T_7526077c_e398_11ea_82df_0242ac1c0002row9_col1\" class=\"data row9 col1\" >None</td>\n",
              "            </tr>\n",
              "            <tr>\n",
              "                        <th id=\"T_7526077c_e398_11ea_82df_0242ac1c0002level0_row10\" class=\"row_heading level0 row10\" >10</th>\n",
              "                        <td id=\"T_7526077c_e398_11ea_82df_0242ac1c0002row10_col0\" class=\"data row10 col0\" >Sampled Data</td>\n",
              "                        <td id=\"T_7526077c_e398_11ea_82df_0242ac1c0002row10_col1\" class=\"data row10 col1\" >(18, 4)</td>\n",
              "            </tr>\n",
              "            <tr>\n",
              "                        <th id=\"T_7526077c_e398_11ea_82df_0242ac1c0002level0_row11\" class=\"row_heading level0 row11\" >11</th>\n",
              "                        <td id=\"T_7526077c_e398_11ea_82df_0242ac1c0002row11_col0\" class=\"data row11 col0\" >Transformed Train Set</td>\n",
              "                        <td id=\"T_7526077c_e398_11ea_82df_0242ac1c0002row11_col1\" class=\"data row11 col1\" >(12, 160)</td>\n",
              "            </tr>\n",
              "            <tr>\n",
              "                        <th id=\"T_7526077c_e398_11ea_82df_0242ac1c0002level0_row12\" class=\"row_heading level0 row12\" >12</th>\n",
              "                        <td id=\"T_7526077c_e398_11ea_82df_0242ac1c0002row12_col0\" class=\"data row12 col0\" >Transformed Test Set</td>\n",
              "                        <td id=\"T_7526077c_e398_11ea_82df_0242ac1c0002row12_col1\" class=\"data row12 col1\" >(6, 160)</td>\n",
              "            </tr>\n",
              "            <tr>\n",
              "                        <th id=\"T_7526077c_e398_11ea_82df_0242ac1c0002level0_row13\" class=\"row_heading level0 row13\" >13</th>\n",
              "                        <td id=\"T_7526077c_e398_11ea_82df_0242ac1c0002row13_col0\" class=\"data row13 col0\" >Numeric Imputer </td>\n",
              "                        <td id=\"T_7526077c_e398_11ea_82df_0242ac1c0002row13_col1\" class=\"data row13 col1\" >mean</td>\n",
              "            </tr>\n",
              "            <tr>\n",
              "                        <th id=\"T_7526077c_e398_11ea_82df_0242ac1c0002level0_row14\" class=\"row_heading level0 row14\" >14</th>\n",
              "                        <td id=\"T_7526077c_e398_11ea_82df_0242ac1c0002row14_col0\" class=\"data row14 col0\" >Categorical Imputer </td>\n",
              "                        <td id=\"T_7526077c_e398_11ea_82df_0242ac1c0002row14_col1\" class=\"data row14 col1\" >constant</td>\n",
              "            </tr>\n",
              "            <tr>\n",
              "                        <th id=\"T_7526077c_e398_11ea_82df_0242ac1c0002level0_row15\" class=\"row_heading level0 row15\" >15</th>\n",
              "                        <td id=\"T_7526077c_e398_11ea_82df_0242ac1c0002row15_col0\" class=\"data row15 col0\" >Normalize </td>\n",
              "                        <td id=\"T_7526077c_e398_11ea_82df_0242ac1c0002row15_col1\" class=\"data row15 col1\" >True</td>\n",
              "            </tr>\n",
              "            <tr>\n",
              "                        <th id=\"T_7526077c_e398_11ea_82df_0242ac1c0002level0_row16\" class=\"row_heading level0 row16\" >16</th>\n",
              "                        <td id=\"T_7526077c_e398_11ea_82df_0242ac1c0002row16_col0\" class=\"data row16 col0\" >Normalize Method </td>\n",
              "                        <td id=\"T_7526077c_e398_11ea_82df_0242ac1c0002row16_col1\" class=\"data row16 col1\" >zscore</td>\n",
              "            </tr>\n",
              "            <tr>\n",
              "                        <th id=\"T_7526077c_e398_11ea_82df_0242ac1c0002level0_row17\" class=\"row_heading level0 row17\" >17</th>\n",
              "                        <td id=\"T_7526077c_e398_11ea_82df_0242ac1c0002row17_col0\" class=\"data row17 col0\" >Transformation </td>\n",
              "                        <td id=\"T_7526077c_e398_11ea_82df_0242ac1c0002row17_col1\" class=\"data row17 col1\" >False</td>\n",
              "            </tr>\n",
              "            <tr>\n",
              "                        <th id=\"T_7526077c_e398_11ea_82df_0242ac1c0002level0_row18\" class=\"row_heading level0 row18\" >18</th>\n",
              "                        <td id=\"T_7526077c_e398_11ea_82df_0242ac1c0002row18_col0\" class=\"data row18 col0\" >Transformation Method </td>\n",
              "                        <td id=\"T_7526077c_e398_11ea_82df_0242ac1c0002row18_col1\" class=\"data row18 col1\" >None</td>\n",
              "            </tr>\n",
              "            <tr>\n",
              "                        <th id=\"T_7526077c_e398_11ea_82df_0242ac1c0002level0_row19\" class=\"row_heading level0 row19\" >19</th>\n",
              "                        <td id=\"T_7526077c_e398_11ea_82df_0242ac1c0002row19_col0\" class=\"data row19 col0\" >PCA </td>\n",
              "                        <td id=\"T_7526077c_e398_11ea_82df_0242ac1c0002row19_col1\" class=\"data row19 col1\" >False</td>\n",
              "            </tr>\n",
              "            <tr>\n",
              "                        <th id=\"T_7526077c_e398_11ea_82df_0242ac1c0002level0_row20\" class=\"row_heading level0 row20\" >20</th>\n",
              "                        <td id=\"T_7526077c_e398_11ea_82df_0242ac1c0002row20_col0\" class=\"data row20 col0\" >PCA Method </td>\n",
              "                        <td id=\"T_7526077c_e398_11ea_82df_0242ac1c0002row20_col1\" class=\"data row20 col1\" >None</td>\n",
              "            </tr>\n",
              "            <tr>\n",
              "                        <th id=\"T_7526077c_e398_11ea_82df_0242ac1c0002level0_row21\" class=\"row_heading level0 row21\" >21</th>\n",
              "                        <td id=\"T_7526077c_e398_11ea_82df_0242ac1c0002row21_col0\" class=\"data row21 col0\" >PCA Components </td>\n",
              "                        <td id=\"T_7526077c_e398_11ea_82df_0242ac1c0002row21_col1\" class=\"data row21 col1\" >None</td>\n",
              "            </tr>\n",
              "            <tr>\n",
              "                        <th id=\"T_7526077c_e398_11ea_82df_0242ac1c0002level0_row22\" class=\"row_heading level0 row22\" >22</th>\n",
              "                        <td id=\"T_7526077c_e398_11ea_82df_0242ac1c0002row22_col0\" class=\"data row22 col0\" >Ignore Low Variance </td>\n",
              "                        <td id=\"T_7526077c_e398_11ea_82df_0242ac1c0002row22_col1\" class=\"data row22 col1\" >False</td>\n",
              "            </tr>\n",
              "            <tr>\n",
              "                        <th id=\"T_7526077c_e398_11ea_82df_0242ac1c0002level0_row23\" class=\"row_heading level0 row23\" >23</th>\n",
              "                        <td id=\"T_7526077c_e398_11ea_82df_0242ac1c0002row23_col0\" class=\"data row23 col0\" >Combine Rare Levels </td>\n",
              "                        <td id=\"T_7526077c_e398_11ea_82df_0242ac1c0002row23_col1\" class=\"data row23 col1\" >False</td>\n",
              "            </tr>\n",
              "            <tr>\n",
              "                        <th id=\"T_7526077c_e398_11ea_82df_0242ac1c0002level0_row24\" class=\"row_heading level0 row24\" >24</th>\n",
              "                        <td id=\"T_7526077c_e398_11ea_82df_0242ac1c0002row24_col0\" class=\"data row24 col0\" >Rare Level Threshold </td>\n",
              "                        <td id=\"T_7526077c_e398_11ea_82df_0242ac1c0002row24_col1\" class=\"data row24 col1\" >None</td>\n",
              "            </tr>\n",
              "            <tr>\n",
              "                        <th id=\"T_7526077c_e398_11ea_82df_0242ac1c0002level0_row25\" class=\"row_heading level0 row25\" >25</th>\n",
              "                        <td id=\"T_7526077c_e398_11ea_82df_0242ac1c0002row25_col0\" class=\"data row25 col0\" >Numeric Binning </td>\n",
              "                        <td id=\"T_7526077c_e398_11ea_82df_0242ac1c0002row25_col1\" class=\"data row25 col1\" >False</td>\n",
              "            </tr>\n",
              "            <tr>\n",
              "                        <th id=\"T_7526077c_e398_11ea_82df_0242ac1c0002level0_row26\" class=\"row_heading level0 row26\" >26</th>\n",
              "                        <td id=\"T_7526077c_e398_11ea_82df_0242ac1c0002row26_col0\" class=\"data row26 col0\" >Remove Outliers </td>\n",
              "                        <td id=\"T_7526077c_e398_11ea_82df_0242ac1c0002row26_col1\" class=\"data row26 col1\" >False</td>\n",
              "            </tr>\n",
              "            <tr>\n",
              "                        <th id=\"T_7526077c_e398_11ea_82df_0242ac1c0002level0_row27\" class=\"row_heading level0 row27\" >27</th>\n",
              "                        <td id=\"T_7526077c_e398_11ea_82df_0242ac1c0002row27_col0\" class=\"data row27 col0\" >Outliers Threshold </td>\n",
              "                        <td id=\"T_7526077c_e398_11ea_82df_0242ac1c0002row27_col1\" class=\"data row27 col1\" >None</td>\n",
              "            </tr>\n",
              "            <tr>\n",
              "                        <th id=\"T_7526077c_e398_11ea_82df_0242ac1c0002level0_row28\" class=\"row_heading level0 row28\" >28</th>\n",
              "                        <td id=\"T_7526077c_e398_11ea_82df_0242ac1c0002row28_col0\" class=\"data row28 col0\" >Remove Multicollinearity </td>\n",
              "                        <td id=\"T_7526077c_e398_11ea_82df_0242ac1c0002row28_col1\" class=\"data row28 col1\" >False</td>\n",
              "            </tr>\n",
              "            <tr>\n",
              "                        <th id=\"T_7526077c_e398_11ea_82df_0242ac1c0002level0_row29\" class=\"row_heading level0 row29\" >29</th>\n",
              "                        <td id=\"T_7526077c_e398_11ea_82df_0242ac1c0002row29_col0\" class=\"data row29 col0\" >Multicollinearity Threshold </td>\n",
              "                        <td id=\"T_7526077c_e398_11ea_82df_0242ac1c0002row29_col1\" class=\"data row29 col1\" >None</td>\n",
              "            </tr>\n",
              "            <tr>\n",
              "                        <th id=\"T_7526077c_e398_11ea_82df_0242ac1c0002level0_row30\" class=\"row_heading level0 row30\" >30</th>\n",
              "                        <td id=\"T_7526077c_e398_11ea_82df_0242ac1c0002row30_col0\" class=\"data row30 col0\" >Clustering </td>\n",
              "                        <td id=\"T_7526077c_e398_11ea_82df_0242ac1c0002row30_col1\" class=\"data row30 col1\" >False</td>\n",
              "            </tr>\n",
              "            <tr>\n",
              "                        <th id=\"T_7526077c_e398_11ea_82df_0242ac1c0002level0_row31\" class=\"row_heading level0 row31\" >31</th>\n",
              "                        <td id=\"T_7526077c_e398_11ea_82df_0242ac1c0002row31_col0\" class=\"data row31 col0\" >Clustering Iteration </td>\n",
              "                        <td id=\"T_7526077c_e398_11ea_82df_0242ac1c0002row31_col1\" class=\"data row31 col1\" >None</td>\n",
              "            </tr>\n",
              "            <tr>\n",
              "                        <th id=\"T_7526077c_e398_11ea_82df_0242ac1c0002level0_row32\" class=\"row_heading level0 row32\" >32</th>\n",
              "                        <td id=\"T_7526077c_e398_11ea_82df_0242ac1c0002row32_col0\" class=\"data row32 col0\" >Polynomial Features </td>\n",
              "                        <td id=\"T_7526077c_e398_11ea_82df_0242ac1c0002row32_col1\" class=\"data row32 col1\" >True</td>\n",
              "            </tr>\n",
              "            <tr>\n",
              "                        <th id=\"T_7526077c_e398_11ea_82df_0242ac1c0002level0_row33\" class=\"row_heading level0 row33\" >33</th>\n",
              "                        <td id=\"T_7526077c_e398_11ea_82df_0242ac1c0002row33_col0\" class=\"data row33 col0\" >Polynomial Degree </td>\n",
              "                        <td id=\"T_7526077c_e398_11ea_82df_0242ac1c0002row33_col1\" class=\"data row33 col1\" >2</td>\n",
              "            </tr>\n",
              "            <tr>\n",
              "                        <th id=\"T_7526077c_e398_11ea_82df_0242ac1c0002level0_row34\" class=\"row_heading level0 row34\" >34</th>\n",
              "                        <td id=\"T_7526077c_e398_11ea_82df_0242ac1c0002row34_col0\" class=\"data row34 col0\" >Trignometry Features </td>\n",
              "                        <td id=\"T_7526077c_e398_11ea_82df_0242ac1c0002row34_col1\" class=\"data row34 col1\" >True</td>\n",
              "            </tr>\n",
              "            <tr>\n",
              "                        <th id=\"T_7526077c_e398_11ea_82df_0242ac1c0002level0_row35\" class=\"row_heading level0 row35\" >35</th>\n",
              "                        <td id=\"T_7526077c_e398_11ea_82df_0242ac1c0002row35_col0\" class=\"data row35 col0\" >Polynomial Threshold </td>\n",
              "                        <td id=\"T_7526077c_e398_11ea_82df_0242ac1c0002row35_col1\" class=\"data row35 col1\" >0.100000</td>\n",
              "            </tr>\n",
              "            <tr>\n",
              "                        <th id=\"T_7526077c_e398_11ea_82df_0242ac1c0002level0_row36\" class=\"row_heading level0 row36\" >36</th>\n",
              "                        <td id=\"T_7526077c_e398_11ea_82df_0242ac1c0002row36_col0\" class=\"data row36 col0\" >Group Features </td>\n",
              "                        <td id=\"T_7526077c_e398_11ea_82df_0242ac1c0002row36_col1\" class=\"data row36 col1\" >False</td>\n",
              "            </tr>\n",
              "            <tr>\n",
              "                        <th id=\"T_7526077c_e398_11ea_82df_0242ac1c0002level0_row37\" class=\"row_heading level0 row37\" >37</th>\n",
              "                        <td id=\"T_7526077c_e398_11ea_82df_0242ac1c0002row37_col0\" class=\"data row37 col0\" >Feature Selection </td>\n",
              "                        <td id=\"T_7526077c_e398_11ea_82df_0242ac1c0002row37_col1\" class=\"data row37 col1\" >False</td>\n",
              "            </tr>\n",
              "            <tr>\n",
              "                        <th id=\"T_7526077c_e398_11ea_82df_0242ac1c0002level0_row38\" class=\"row_heading level0 row38\" >38</th>\n",
              "                        <td id=\"T_7526077c_e398_11ea_82df_0242ac1c0002row38_col0\" class=\"data row38 col0\" >Features Selection Threshold </td>\n",
              "                        <td id=\"T_7526077c_e398_11ea_82df_0242ac1c0002row38_col1\" class=\"data row38 col1\" >None</td>\n",
              "            </tr>\n",
              "            <tr>\n",
              "                        <th id=\"T_7526077c_e398_11ea_82df_0242ac1c0002level0_row39\" class=\"row_heading level0 row39\" >39</th>\n",
              "                        <td id=\"T_7526077c_e398_11ea_82df_0242ac1c0002row39_col0\" class=\"data row39 col0\" >Feature Interaction </td>\n",
              "                        <td id=\"T_7526077c_e398_11ea_82df_0242ac1c0002row39_col1\" class=\"data row39 col1\" >True</td>\n",
              "            </tr>\n",
              "            <tr>\n",
              "                        <th id=\"T_7526077c_e398_11ea_82df_0242ac1c0002level0_row40\" class=\"row_heading level0 row40\" >40</th>\n",
              "                        <td id=\"T_7526077c_e398_11ea_82df_0242ac1c0002row40_col0\" class=\"data row40 col0\" >Feature Ratio </td>\n",
              "                        <td id=\"T_7526077c_e398_11ea_82df_0242ac1c0002row40_col1\" class=\"data row40 col1\" >False</td>\n",
              "            </tr>\n",
              "            <tr>\n",
              "                        <th id=\"T_7526077c_e398_11ea_82df_0242ac1c0002level0_row41\" class=\"row_heading level0 row41\" >41</th>\n",
              "                        <td id=\"T_7526077c_e398_11ea_82df_0242ac1c0002row41_col0\" class=\"data row41 col0\" >Interaction Threshold </td>\n",
              "                        <td id=\"T_7526077c_e398_11ea_82df_0242ac1c0002row41_col1\" class=\"data row41 col1\" >0.010000</td>\n",
              "            </tr>\n",
              "    </tbody></table>"
            ],
            "text/plain": [
              "<pandas.io.formats.style.Styler at 0x7faf1daefbe0>"
            ]
          },
          "metadata": {
            "tags": []
          }
        }
      ]
    },
    {
      "cell_type": "code",
      "metadata": {
        "id": "C9174H7GadYw",
        "colab_type": "code",
        "colab": {
          "base_uri": "https://localhost:8080/",
          "height": 242
        },
        "outputId": "128af360-6217-4173-e703-f3845f8c6566"
      },
      "source": [
        "s2[0].columns"
      ],
      "execution_count": 17,
      "outputs": [
        {
          "output_type": "execute_result",
          "data": {
            "text/plain": [
              "Index(['Value', 'Value_Power2', 'cos(Value)', 'sin(Value)', 'tan(Value)',\n",
              "       'Year_2014', 'Year_2015', 'Year_2016', 'Channel_ATM ',\n",
              "       'Channel_Internet Banking  ',\n",
              "       ...\n",
              "       'Channel_Web  _multiply_Year_2014',\n",
              "       'Channel_ATM _multiply_Value_Power2',\n",
              "       'tan(Value)_multiply_Value_Power2', 'sin(Value)_multiply_Value_Power2',\n",
              "       'Value_Power2_multiply_Year_2016',\n",
              "       'Year_2014_multiply_Channel_Internet Banking  ',\n",
              "       'Channel_POS  _multiply_Year_2015', 'cos(Value)_multiply_Year_2015',\n",
              "       'Value_Power2_multiply_cos(Value)',\n",
              "       'sin(Value)_multiply_Channel_Mobile  '],\n",
              "      dtype='object', length=160)"
            ]
          },
          "metadata": {
            "tags": []
          },
          "execution_count": 17
        }
      ]
    },
    {
      "cell_type": "code",
      "metadata": {
        "id": "MhhUoYPSbhrD",
        "colab_type": "code",
        "colab": {
          "base_uri": "https://localhost:8080/",
          "height": 261,
          "referenced_widgets": [
            "a25dc2cdc90f4bb39631036c8845364a"
          ]
        },
        "outputId": "8e3f3c8a-531a-4481-8bca-fd4ca1c5e0ac"
      },
      "source": [
        "lr = create_model('lr')"
      ],
      "execution_count": 18,
      "outputs": [
        {
          "output_type": "display_data",
          "data": {
            "text/html": [
              "<style  type=\"text/css\" >\n",
              "    #T_79b8179e_e398_11ea_82df_0242ac1c0002row10_col0 {\n",
              "            background:  yellow;\n",
              "        }    #T_79b8179e_e398_11ea_82df_0242ac1c0002row10_col1 {\n",
              "            background:  yellow;\n",
              "        }    #T_79b8179e_e398_11ea_82df_0242ac1c0002row10_col2 {\n",
              "            background:  yellow;\n",
              "        }    #T_79b8179e_e398_11ea_82df_0242ac1c0002row10_col3 {\n",
              "            background:  yellow;\n",
              "        }    #T_79b8179e_e398_11ea_82df_0242ac1c0002row10_col4 {\n",
              "            background:  yellow;\n",
              "        }    #T_79b8179e_e398_11ea_82df_0242ac1c0002row10_col5 {\n",
              "            background:  yellow;\n",
              "        }</style><table id=\"T_79b8179e_e398_11ea_82df_0242ac1c0002\" ><thead>    <tr>        <th class=\"blank level0\" ></th>        <th class=\"col_heading level0 col0\" >MAE</th>        <th class=\"col_heading level0 col1\" >MSE</th>        <th class=\"col_heading level0 col2\" >RMSE</th>        <th class=\"col_heading level0 col3\" >R2</th>        <th class=\"col_heading level0 col4\" >RMSLE</th>        <th class=\"col_heading level0 col5\" >MAPE</th>    </tr></thead><tbody>\n",
              "                <tr>\n",
              "                        <th id=\"T_79b8179e_e398_11ea_82df_0242ac1c0002level0_row0\" class=\"row_heading level0 row0\" >0</th>\n",
              "                        <td id=\"T_79b8179e_e398_11ea_82df_0242ac1c0002row0_col0\" class=\"data row0 col0\" >2523.3249</td>\n",
              "                        <td id=\"T_79b8179e_e398_11ea_82df_0242ac1c0002row0_col1\" class=\"data row0 col1\" >8135944.2574</td>\n",
              "                        <td id=\"T_79b8179e_e398_11ea_82df_0242ac1c0002row0_col2\" class=\"data row0 col2\" >2852.3577</td>\n",
              "                        <td id=\"T_79b8179e_e398_11ea_82df_0242ac1c0002row0_col3\" class=\"data row0 col3\" >-22.8961</td>\n",
              "                        <td id=\"T_79b8179e_e398_11ea_82df_0242ac1c0002row0_col4\" class=\"data row0 col4\" >1.2161</td>\n",
              "                        <td id=\"T_79b8179e_e398_11ea_82df_0242ac1c0002row0_col5\" class=\"data row0 col5\" >2.3773</td>\n",
              "            </tr>\n",
              "            <tr>\n",
              "                        <th id=\"T_79b8179e_e398_11ea_82df_0242ac1c0002level0_row1\" class=\"row_heading level0 row1\" >1</th>\n",
              "                        <td id=\"T_79b8179e_e398_11ea_82df_0242ac1c0002row1_col0\" class=\"data row1 col0\" >590.7467</td>\n",
              "                        <td id=\"T_79b8179e_e398_11ea_82df_0242ac1c0002row1_col1\" class=\"data row1 col1\" >398761.5195</td>\n",
              "                        <td id=\"T_79b8179e_e398_11ea_82df_0242ac1c0002row1_col2\" class=\"data row1 col2\" >631.4757</td>\n",
              "                        <td id=\"T_79b8179e_e398_11ea_82df_0242ac1c0002row1_col3\" class=\"data row1 col3\" >0.1023</td>\n",
              "                        <td id=\"T_79b8179e_e398_11ea_82df_0242ac1c0002row1_col4\" class=\"data row1 col4\" >0.9564</td>\n",
              "                        <td id=\"T_79b8179e_e398_11ea_82df_0242ac1c0002row1_col5\" class=\"data row1 col5\" >0.5731</td>\n",
              "            </tr>\n",
              "            <tr>\n",
              "                        <th id=\"T_79b8179e_e398_11ea_82df_0242ac1c0002level0_row2\" class=\"row_heading level0 row2\" >2</th>\n",
              "                        <td id=\"T_79b8179e_e398_11ea_82df_0242ac1c0002row2_col0\" class=\"data row2 col0\" >1080.9781</td>\n",
              "                        <td id=\"T_79b8179e_e398_11ea_82df_0242ac1c0002row2_col1\" class=\"data row2 col1\" >1168513.6937</td>\n",
              "                        <td id=\"T_79b8179e_e398_11ea_82df_0242ac1c0002row2_col2\" class=\"data row2 col2\" >1080.9781</td>\n",
              "                        <td id=\"T_79b8179e_e398_11ea_82df_0242ac1c0002row2_col3\" class=\"data row2 col3\" >nan</td>\n",
              "                        <td id=\"T_79b8179e_e398_11ea_82df_0242ac1c0002row2_col4\" class=\"data row2 col4\" >0.5529</td>\n",
              "                        <td id=\"T_79b8179e_e398_11ea_82df_0242ac1c0002row2_col5\" class=\"data row2 col5\" >0.7389</td>\n",
              "            </tr>\n",
              "            <tr>\n",
              "                        <th id=\"T_79b8179e_e398_11ea_82df_0242ac1c0002level0_row3\" class=\"row_heading level0 row3\" >3</th>\n",
              "                        <td id=\"T_79b8179e_e398_11ea_82df_0242ac1c0002row3_col0\" class=\"data row3 col0\" >3003.1250</td>\n",
              "                        <td id=\"T_79b8179e_e398_11ea_82df_0242ac1c0002row3_col1\" class=\"data row3 col1\" >9018759.4688</td>\n",
              "                        <td id=\"T_79b8179e_e398_11ea_82df_0242ac1c0002row3_col2\" class=\"data row3 col2\" >3003.1250</td>\n",
              "                        <td id=\"T_79b8179e_e398_11ea_82df_0242ac1c0002row3_col3\" class=\"data row3 col3\" >nan</td>\n",
              "                        <td id=\"T_79b8179e_e398_11ea_82df_0242ac1c0002row3_col4\" class=\"data row3 col4\" >2.9435</td>\n",
              "                        <td id=\"T_79b8179e_e398_11ea_82df_0242ac1c0002row3_col5\" class=\"data row3 col5\" >18.0911</td>\n",
              "            </tr>\n",
              "            <tr>\n",
              "                        <th id=\"T_79b8179e_e398_11ea_82df_0242ac1c0002level0_row4\" class=\"row_heading level0 row4\" >4</th>\n",
              "                        <td id=\"T_79b8179e_e398_11ea_82df_0242ac1c0002row4_col0\" class=\"data row4 col0\" >127.0729</td>\n",
              "                        <td id=\"T_79b8179e_e398_11ea_82df_0242ac1c0002row4_col1\" class=\"data row4 col1\" >16147.5257</td>\n",
              "                        <td id=\"T_79b8179e_e398_11ea_82df_0242ac1c0002row4_col2\" class=\"data row4 col2\" >127.0729</td>\n",
              "                        <td id=\"T_79b8179e_e398_11ea_82df_0242ac1c0002row4_col3\" class=\"data row4 col3\" >nan</td>\n",
              "                        <td id=\"T_79b8179e_e398_11ea_82df_0242ac1c0002row4_col4\" class=\"data row4 col4\" >0.5820</td>\n",
              "                        <td id=\"T_79b8179e_e398_11ea_82df_0242ac1c0002row4_col5\" class=\"data row4 col5\" >0.4428</td>\n",
              "            </tr>\n",
              "            <tr>\n",
              "                        <th id=\"T_79b8179e_e398_11ea_82df_0242ac1c0002level0_row5\" class=\"row_heading level0 row5\" >5</th>\n",
              "                        <td id=\"T_79b8179e_e398_11ea_82df_0242ac1c0002row5_col0\" class=\"data row5 col0\" >2980.6226</td>\n",
              "                        <td id=\"T_79b8179e_e398_11ea_82df_0242ac1c0002row5_col1\" class=\"data row5 col1\" >8884111.1174</td>\n",
              "                        <td id=\"T_79b8179e_e398_11ea_82df_0242ac1c0002row5_col2\" class=\"data row5 col2\" >2980.6226</td>\n",
              "                        <td id=\"T_79b8179e_e398_11ea_82df_0242ac1c0002row5_col3\" class=\"data row5 col3\" >nan</td>\n",
              "                        <td id=\"T_79b8179e_e398_11ea_82df_0242ac1c0002row5_col4\" class=\"data row5 col4\" >0.8688</td>\n",
              "                        <td id=\"T_79b8179e_e398_11ea_82df_0242ac1c0002row5_col5\" class=\"data row5 col5\" >0.5807</td>\n",
              "            </tr>\n",
              "            <tr>\n",
              "                        <th id=\"T_79b8179e_e398_11ea_82df_0242ac1c0002level0_row6\" class=\"row_heading level0 row6\" >6</th>\n",
              "                        <td id=\"T_79b8179e_e398_11ea_82df_0242ac1c0002row6_col0\" class=\"data row6 col0\" >472.1086</td>\n",
              "                        <td id=\"T_79b8179e_e398_11ea_82df_0242ac1c0002row6_col1\" class=\"data row6 col1\" >222886.5711</td>\n",
              "                        <td id=\"T_79b8179e_e398_11ea_82df_0242ac1c0002row6_col2\" class=\"data row6 col2\" >472.1086</td>\n",
              "                        <td id=\"T_79b8179e_e398_11ea_82df_0242ac1c0002row6_col3\" class=\"data row6 col3\" >nan</td>\n",
              "                        <td id=\"T_79b8179e_e398_11ea_82df_0242ac1c0002row6_col4\" class=\"data row6 col4\" >0.1939</td>\n",
              "                        <td id=\"T_79b8179e_e398_11ea_82df_0242ac1c0002row6_col5\" class=\"data row6 col5\" >0.1764</td>\n",
              "            </tr>\n",
              "            <tr>\n",
              "                        <th id=\"T_79b8179e_e398_11ea_82df_0242ac1c0002level0_row7\" class=\"row_heading level0 row7\" >7</th>\n",
              "                        <td id=\"T_79b8179e_e398_11ea_82df_0242ac1c0002row7_col0\" class=\"data row7 col0\" >7453.6322</td>\n",
              "                        <td id=\"T_79b8179e_e398_11ea_82df_0242ac1c0002row7_col1\" class=\"data row7 col1\" >55556632.8397</td>\n",
              "                        <td id=\"T_79b8179e_e398_11ea_82df_0242ac1c0002row7_col2\" class=\"data row7 col2\" >7453.6322</td>\n",
              "                        <td id=\"T_79b8179e_e398_11ea_82df_0242ac1c0002row7_col3\" class=\"data row7 col3\" >nan</td>\n",
              "                        <td id=\"T_79b8179e_e398_11ea_82df_0242ac1c0002row7_col4\" class=\"data row7 col4\" >1.5265</td>\n",
              "                        <td id=\"T_79b8179e_e398_11ea_82df_0242ac1c0002row7_col5\" class=\"data row7 col5\" >0.7828</td>\n",
              "            </tr>\n",
              "            <tr>\n",
              "                        <th id=\"T_79b8179e_e398_11ea_82df_0242ac1c0002level0_row8\" class=\"row_heading level0 row8\" >8</th>\n",
              "                        <td id=\"T_79b8179e_e398_11ea_82df_0242ac1c0002row8_col0\" class=\"data row8 col0\" >1158.0137</td>\n",
              "                        <td id=\"T_79b8179e_e398_11ea_82df_0242ac1c0002row8_col1\" class=\"data row8 col1\" >1340995.8312</td>\n",
              "                        <td id=\"T_79b8179e_e398_11ea_82df_0242ac1c0002row8_col2\" class=\"data row8 col2\" >1158.0137</td>\n",
              "                        <td id=\"T_79b8179e_e398_11ea_82df_0242ac1c0002row8_col3\" class=\"data row8 col3\" >nan</td>\n",
              "                        <td id=\"T_79b8179e_e398_11ea_82df_0242ac1c0002row8_col4\" class=\"data row8 col4\" >3.9822</td>\n",
              "                        <td id=\"T_79b8179e_e398_11ea_82df_0242ac1c0002row8_col5\" class=\"data row8 col5\" >55.1435</td>\n",
              "            </tr>\n",
              "            <tr>\n",
              "                        <th id=\"T_79b8179e_e398_11ea_82df_0242ac1c0002level0_row9\" class=\"row_heading level0 row9\" >9</th>\n",
              "                        <td id=\"T_79b8179e_e398_11ea_82df_0242ac1c0002row9_col0\" class=\"data row9 col0\" >2684.1927</td>\n",
              "                        <td id=\"T_79b8179e_e398_11ea_82df_0242ac1c0002row9_col1\" class=\"data row9 col1\" >7204890.5475</td>\n",
              "                        <td id=\"T_79b8179e_e398_11ea_82df_0242ac1c0002row9_col2\" class=\"data row9 col2\" >2684.1927</td>\n",
              "                        <td id=\"T_79b8179e_e398_11ea_82df_0242ac1c0002row9_col3\" class=\"data row9 col3\" >nan</td>\n",
              "                        <td id=\"T_79b8179e_e398_11ea_82df_0242ac1c0002row9_col4\" class=\"data row9 col4\" >1.5769</td>\n",
              "                        <td id=\"T_79b8179e_e398_11ea_82df_0242ac1c0002row9_col5\" class=\"data row9 col5\" >3.8455</td>\n",
              "            </tr>\n",
              "            <tr>\n",
              "                        <th id=\"T_79b8179e_e398_11ea_82df_0242ac1c0002level0_row10\" class=\"row_heading level0 row10\" >Mean</th>\n",
              "                        <td id=\"T_79b8179e_e398_11ea_82df_0242ac1c0002row10_col0\" class=\"data row10 col0\" >2207.3817</td>\n",
              "                        <td id=\"T_79b8179e_e398_11ea_82df_0242ac1c0002row10_col1\" class=\"data row10 col1\" >9194764.3372</td>\n",
              "                        <td id=\"T_79b8179e_e398_11ea_82df_0242ac1c0002row10_col2\" class=\"data row10 col2\" >2244.3579</td>\n",
              "                        <td id=\"T_79b8179e_e398_11ea_82df_0242ac1c0002row10_col3\" class=\"data row10 col3\" >nan</td>\n",
              "                        <td id=\"T_79b8179e_e398_11ea_82df_0242ac1c0002row10_col4\" class=\"data row10 col4\" >1.4399</td>\n",
              "                        <td id=\"T_79b8179e_e398_11ea_82df_0242ac1c0002row10_col5\" class=\"data row10 col5\" >8.2752</td>\n",
              "            </tr>\n",
              "            <tr>\n",
              "                        <th id=\"T_79b8179e_e398_11ea_82df_0242ac1c0002level0_row11\" class=\"row_heading level0 row11\" >SD</th>\n",
              "                        <td id=\"T_79b8179e_e398_11ea_82df_0242ac1c0002row11_col0\" class=\"data row11 col0\" >2034.7910</td>\n",
              "                        <td id=\"T_79b8179e_e398_11ea_82df_0242ac1c0002row11_col1\" class=\"data row11 col1\" >15883465.2194</td>\n",
              "                        <td id=\"T_79b8179e_e398_11ea_82df_0242ac1c0002row11_col2\" class=\"data row11 col2\" >2039.0247</td>\n",
              "                        <td id=\"T_79b8179e_e398_11ea_82df_0242ac1c0002row11_col3\" class=\"data row11 col3\" >nan</td>\n",
              "                        <td id=\"T_79b8179e_e398_11ea_82df_0242ac1c0002row11_col4\" class=\"data row11 col4\" >1.1152</td>\n",
              "                        <td id=\"T_79b8179e_e398_11ea_82df_0242ac1c0002row11_col5\" class=\"data row11 col5\" >16.4493</td>\n",
              "            </tr>\n",
              "    </tbody></table>"
            ],
            "text/plain": [
              "<pandas.io.formats.style.Styler at 0x7faf3eb92f60>"
            ]
          },
          "metadata": {
            "tags": []
          }
        }
      ]
    },
    {
      "cell_type": "code",
      "metadata": {
        "id": "bDaREPgxbmOf",
        "colab_type": "code",
        "colab": {
          "base_uri": "https://localhost:8080/",
          "height": 376,
          "referenced_widgets": [
            "ef2d6d7925b94288bb9971f0b97b6fcb"
          ]
        },
        "outputId": "1ecd3c6a-f660-4d3c-b71c-58ecb8ee3c1b"
      },
      "source": [
        "plot_model(lr)"
      ],
      "execution_count": 19,
      "outputs": [
        {
          "output_type": "display_data",
          "data": {
            "image/png": "[encoded data removed]",
            "text/plain": [
              "<Figure size 576x396 with 2 Axes>"
            ]
          },
          "metadata": {
            "tags": []
          }
        }
      ]
    },
    {
      "cell_type": "code",
      "metadata": {
        "id": "NiyPK8IJbuly",
        "colab_type": "code",
        "colab": {
          "base_uri": "https://localhost:8080/",
          "height": 34
        },
        "outputId": "a6af2b7a-9c38-43f6-aec8-e27e89f2e7f8"
      },
      "source": [
        "save_model(lr, 'deployment_1')\n"
      ],
      "execution_count": 20,
      "outputs": [
        {
          "output_type": "stream",
          "text": [
            "Transformation Pipeline and Model Succesfully Saved\n"
          ],
          "name": "stdout"
        }
      ]
    },
    {
      "cell_type": "code",
      "metadata": {
        "id": "j-3Beu0Q_SL5",
        "colab_type": "code",
        "colab": {
          "base_uri": "https://localhost:8080/",
          "height": 34
        },
        "outputId": "091ff6d0-80d1-42e3-8955-3f1a9be15a97"
      },
      "source": [
        "deployment_1 = load_model('deployment_1')\n"
      ],
      "execution_count": 21,
      "outputs": [
        {
          "output_type": "stream",
          "text": [
            "Transformation Pipeline and Model Sucessfully Loaded\n"
          ],
          "name": "stdout"
        }
      ]
    },
    {
      "cell_type": "code",
      "metadata": {
        "id": "vlhwc7Y2_W_y",
        "colab_type": "code",
        "colab": {
          "base_uri": "https://localhost:8080/",
          "height": 450
        },
        "outputId": "09cfa5a6-734c-4d91-ccef-ae324d01505b"
      },
      "source": [
        "deployment_1"
      ],
      "execution_count": 22,
      "outputs": [
        {
          "output_type": "execute_result",
          "data": {
            "text/plain": [
              "[Pipeline(memory=None,\n",
              "          steps=[('dtypes',\n",
              "                  DataTypes_Auto_infer(categorical_features=[],\n",
              "                                       display_types=True, features_todrop=[],\n",
              "                                       ml_usecase='regression',\n",
              "                                       numerical_features=[], target='Volume',\n",
              "                                       time_features=[])),\n",
              "                 ('imputer',\n",
              "                  Simple_Imputer(categorical_strategy='not_available',\n",
              "                                 numeric_strategy='mean',\n",
              "                                 target_variable=None)),\n",
              "                 ('new_levels1',\n",
              "                  New_Catagorical_Levels_...\n",
              "                 ('cluster_all', Empty()), ('dummy', Dummify(target='Volume')),\n",
              "                 ('fix_perfect', Empty()), ('clean_names', Clean_Colum_Names()),\n",
              "                 ('feature_select', Empty()), ('fix_multi', Empty()),\n",
              "                 ('dfs',\n",
              "                  DFS_Classic(interactions=['multiply'], ml_usecase='regression',\n",
              "                              random_state=123, subclass='binary',\n",
              "                              target='Volume',\n",
              "                              top_features_to_pick_percentage=None)),\n",
              "                 ('pca', Empty())],\n",
              "          verbose=False),\n",
              " LinearRegression(copy_X=True, fit_intercept=True, n_jobs=-1, normalize=False),\n",
              " None]"
            ]
          },
          "metadata": {
            "tags": []
          },
          "execution_count": 22
        }
      ]
    },
    {
      "cell_type": "code",
      "metadata": {
        "id": "_DUWHQ1Z_a7H",
        "colab_type": "code",
        "colab": {}
      },
      "source": [
        ""
      ],
      "execution_count": null,
      "outputs": []
    }
  ]
}